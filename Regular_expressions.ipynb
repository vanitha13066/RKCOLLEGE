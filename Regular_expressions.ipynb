{
 "cells": [
  {
   "cell_type": "markdown",
   "id": "e5087e28-50fe-4ed0-a3be-05e972592dd2",
   "metadata": {},
   "source": [
    "** Regular Expressions **\n",
    "\n",
    "- A RegEx, or Regular Expression, is a sequence of characters that forms a search pattern.\n",
    "- RegEx can be used to check if a string contains the specified search pattern.\n",
    "\n",
    "*RegEx Module*\n",
    "- Python has a built-in package called re, which can be used to work with Regular Expressions.\n",
    "\n",
    "- Import the re module:\n",
    "import re"
   ]
  },
  {
   "cell_type": "code",
   "execution_count": null,
   "id": "afe1c2c7-8e1b-4015-86e7-593bca277d01",
   "metadata": {},
   "outputs": [],
   "source": [
    "Sets\n",
    "A set is a set of characters inside a pair of square brackets [] with a special meaning:\n",
    "\n",
    "[arn] - Returns a match where one of the specified characters (a, r, or n) is present\t\n",
    "[a-n] - Returns a match for any lower case character, alphabetically between a and n\t\n",
    "[^arn] -Returns a match for any character EXCEPT a, r, and n\t\n",
    "[0123] -Returns a match where any of the specified digits (0, 1, 2, or 3) are present\t\n",
    "[0-9] -Returns a match for any digit between 0 and 9\t\n",
    "[0-5][0-9]-Returns a match for any two-digit numbers from 00 and 59\t\n",
    "[a-zA-Z]-Returns a match for any character alphabetically between a and z, \n",
    "    lower case OR upper case\t\n",
    "[+]\tIn sets, +, *, ., |, (), $,{} has no special meaning,\n",
    "                       so [+] means: return a match for any + character in the string"
   ]
  },
  {
   "cell_type": "code",
   "execution_count": null,
   "id": "31e68068-5e76-4e8e-af04-22052c1c73ef",
   "metadata": {},
   "outputs": [],
   "source": [
    "we have 3 types of functions in RE\n",
    "1.findall()\n",
    "2.search()\n",
    "3.switch()"
   ]
  },
  {
   "cell_type": "code",
   "execution_count": null,
   "id": "99aa8e07-5769-4a43-ae32-90a9c6d9f107",
   "metadata": {},
   "outputs": [],
   "source": [
    "The findall() Function\n",
    "The findall() function returns a list containing all matches."
   ]
  },
  {
   "cell_type": "code",
   "execution_count": 1,
   "id": "e4215f70-9cc0-4202-96da-36162373f9cb",
   "metadata": {},
   "outputs": [
    {
     "name": "stdout",
     "output_type": "stream",
     "text": [
      "['ai', 'ai']\n"
     ]
    }
   ],
   "source": [
    "import re\n",
    "txt = \"The rain in Spain\"\n",
    "x = re.findall(\"ai\", txt)\n",
    "print(x)"
   ]
  },
  {
   "cell_type": "code",
   "execution_count": 4,
   "id": "fa450b5a-476d-435f-bbc0-e12a01854ef8",
   "metadata": {},
   "outputs": [
    {
     "name": "stdout",
     "output_type": "stream",
     "text": [
      "['a', 'a', 'a', 'a']\n"
     ]
    }
   ],
   "source": [
    "import re\n",
    "a = \"hi hello good morning welcome to data analysis workshop\"\n",
    "z=re.findall(\"a\",a)\n",
    "print(z)"
   ]
  },
  {
   "cell_type": "code",
   "execution_count": 5,
   "id": "86a48fe8-11e1-4f83-9e69-9e18ffc35fdb",
   "metadata": {},
   "outputs": [
    {
     "name": "stdout",
     "output_type": "stream",
     "text": [
      "[]\n"
     ]
    }
   ],
   "source": [
    "import re\n",
    "txt = \"The rain in Spain\"\n",
    "x = re.findall(\"Portugal\", txt)\n",
    "print(x)"
   ]
  },
  {
   "cell_type": "code",
   "execution_count": null,
   "id": "e5e8f183-1f95-46b6-9cbc-4d575584eb5e",
   "metadata": {},
   "outputs": [],
   "source": [
    "The search()\n",
    "\n",
    "The search() function searches the string for a match, and returns a Match object if there is a match.\n",
    "\n",
    "If there is more than one match, only the first occurrence of the match will be returned"
   ]
  },
  {
   "cell_type": "code",
   "execution_count": 15,
   "id": "4274f754-8880-45e2-ba72-fabe1828cb8a",
   "metadata": {},
   "outputs": [
    {
     "name": "stdout",
     "output_type": "stream",
     "text": [
      "None\n"
     ]
    }
   ],
   "source": [
    "import re\n",
    "txt = \"The rain in Spain\"\n",
    "x = re.search(\"z\", txt)\n",
    "print(x)"
   ]
  },
  {
   "cell_type": "code",
   "execution_count": null,
   "id": "f0db7ec3-a9da-4384-b997-32d988107285",
   "metadata": {},
   "outputs": [],
   "source": [
    ".span() returns a tuple containing the start-, and end positions of the match."
   ]
  },
  {
   "cell_type": "code",
   "execution_count": 20,
   "id": "90987d78-8ba9-458b-9e2f-bc5cab31bba0",
   "metadata": {
    "scrolled": true
   },
   "outputs": [
    {
     "name": "stdout",
     "output_type": "stream",
     "text": [
      "<re.Match object; span=(0, 1), match='p'>\n"
     ]
    }
   ],
   "source": [
    "import re\n",
    "txt = \"python programming prime\"\n",
    "x = re.search(\"p\", txt)\n",
    "print(x)"
   ]
  },
  {
   "cell_type": "code",
   "execution_count": 28,
   "id": "a52f970f-26ba-4d9a-8a36-bf75ee08f8fa",
   "metadata": {},
   "outputs": [
    {
     "name": "stdout",
     "output_type": "stream",
     "text": [
      "<re.Match object; span=(13, 14), match='m'>\n"
     ]
    }
   ],
   "source": [
    "import re\n",
    "txt = \"python programming prime\"\n",
    "x = re.search(\"m\", txt)\n",
    "print(x)"
   ]
  },
  {
   "cell_type": "code",
   "execution_count": null,
   "id": "ada84440-583e-4d11-83c9-e16e6b800e14",
   "metadata": {},
   "outputs": [],
   "source": [
    "The split()\n",
    "\n",
    "The split() function returns a list where the string has been split at each match:"
   ]
  },
  {
   "cell_type": "code",
   "execution_count": 35,
   "id": "b175de98-1dc3-4913-9c8e-3bc0ed3973a2",
   "metadata": {},
   "outputs": [
    {
     "name": "stdout",
     "output_type": "stream",
     "text": [
      "['The ra', 'n ', 'n Spa', 'n']\n"
     ]
    }
   ],
   "source": [
    "import re\n",
    "txt = \"The rain in Spain\"\n",
    "x = re.split(\"i\", txt)\n",
    "print(x)"
   ]
  },
  {
   "cell_type": "code",
   "execution_count": 34,
   "id": "b8333539-70b2-47bd-a950-b1aba6c48b4e",
   "metadata": {},
   "outputs": [
    {
     "name": "stdout",
     "output_type": "stream",
     "text": [
      "['python', 'programming', 'is', 'powerful']\n"
     ]
    }
   ],
   "source": [
    "import re\n",
    "txt = \"python programming is powerful\"\n",
    "print(re.split(\" \", txt))"
   ]
  },
  {
   "cell_type": "code",
   "execution_count": 37,
   "id": "f719b875-755c-4686-8d50-16103d1ed6eb",
   "metadata": {},
   "outputs": [
    {
     "name": "stdout",
     "output_type": "stream",
     "text": [
      "['python', 'programming', 'is', 'powerful']\n"
     ]
    }
   ],
   "source": [
    "import re\n",
    "txt = \"python   programming\\tis powerful\"\n",
    "print(re.split(r\"\\s+\", txt))\n"
   ]
  },
  {
   "cell_type": "markdown",
   "id": "0a437794-d65e-44d1-aa5f-e0e42f0ebb4a",
   "metadata": {},
   "source": [
    "\n",
    "\\s+ is a regular expression pattern that matches one or more whitespace characters.\n",
    "This includes spaces ( ), tabs (\\t), and newlines (\\n).\n",
    "So this will split the string wherever there are one or more whitespace characters"
   ]
  },
  {
   "cell_type": "code",
   "execution_count": 39,
   "id": "4eb8c72c-776e-4aa0-8d01-3404880d09e2",
   "metadata": {},
   "outputs": [
    {
     "name": "stdout",
     "output_type": "stream",
     "text": [
      "['word1', ',', 'word2', '.', 'word3', ';', 'word4']\n"
     ]
    }
   ],
   "source": [
    "import re\n",
    "txt = \"word1,word2.word3;word4\"\n",
    "print(re.split(r\"([,.;])\", txt))"
   ]
  },
  {
   "cell_type": "code",
   "execution_count": null,
   "id": "3c6b4e1b-8b4a-4232-b48a-c681579b1396",
   "metadata": {},
   "outputs": [],
   "source": [
    "re.split(r\"([,.;])\", txt) splits the string txt at commas (,), periods (.), and semicolons (;).\n",
    "The pattern ([,.;]) uses capturing parentheses, so the separators\n",
    "         themselves are also included in the resulting list.\n",
    "The list alternates between words and the punctuation marks used to separate them."
   ]
  },
  {
   "cell_type": "code",
   "execution_count": 40,
   "id": "e182ab23-69ba-4479-9f5e-2a55a360abfb",
   "metadata": {},
   "outputs": [
    {
     "data": {
      "text/plain": [
       "['word1', 'word2', 'word3', 'word4']"
      ]
     },
     "execution_count": 40,
     "metadata": {},
     "output_type": "execute_result"
    }
   ],
   "source": [
    "re.split(r\"[,.;]\", txt)"
   ]
  },
  {
   "cell_type": "code",
   "execution_count": 41,
   "id": "c1282540-99f0-45dc-8ad1-758d3fe9e101",
   "metadata": {},
   "outputs": [
    {
     "name": "stdin",
     "output_type": "stream",
     "text": [
      "enter a number: 6894155722\n"
     ]
    },
    {
     "name": "stdout",
     "output_type": "stream",
     "text": [
      "valid number\n"
     ]
    }
   ],
   "source": [
    "#phone number validator\n",
    "import re\n",
    "phone=input(\"enter a number:\")\n",
    "pattern=\"^[6-9][0-9]{9}$|^[+][9][1][6-9][0-9]{9}$\"\n",
    "if re.match(pattern,phone):\n",
    " print(\"valid number\")\n",
    "else:\n",
    " print(\"not a valid number\")"
   ]
  },
  {
   "cell_type": "markdown",
   "id": "ca2085a0-d6d8-4b6c-bfe1-f5f919c24065",
   "metadata": {},
   "source": [
    "^-start\n",
    "$-end\n",
    "[0-9]-numbers\n",
    "[a-z]-small\n",
    "[A-Z]-capital\n",
    "[a-zA-Z]-may be both\n",
    "[@]-special symbols and single\n",
    "[0-9]{4}-only we have to give 4 numbers\n",
    "|-means another pattern\n"
   ]
  },
  {
   "cell_type": "code",
   "execution_count": 42,
   "id": "89ef8322-dd35-43a0-98f8-efb7b93aceb9",
   "metadata": {},
   "outputs": [
    {
     "name": "stdin",
     "output_type": "stream",
     "text": [
      "enter a email: vanitha12@gmail.com\n"
     ]
    },
    {
     "name": "stdout",
     "output_type": "stream",
     "text": [
      "valid email\n"
     ]
    }
   ],
   "source": [
    "#email validator:\n",
    "import re\n",
    "phone=input(\"enter a email:\")\n",
    "pattern=\"^[0-9a-z][0-9a-z_.]{5,20}[@][a-z]{5,9}[.][a-z]{2,5}$\"\n",
    "if re.match(pattern,phone):\n",
    " print(\"valid email\")\n",
    "else:\n",
    " print(\"not a valid email\") \n"
   ]
  },
  {
   "cell_type": "code",
   "execution_count": 43,
   "id": "0dfa4a3b-2af4-4b4e-8666-c30e8be38bf4",
   "metadata": {},
   "outputs": [
    {
     "name": "stdin",
     "output_type": "stream",
     "text": [
      "enter a password: Ajkj699\n"
     ]
    },
    {
     "name": "stdout",
     "output_type": "stream",
     "text": [
      "not a valid password\n"
     ]
    }
   ],
   "source": [
    "#Apssdcdf@23445\n",
    "import re\n",
    "phone=input(\"enter a password:\")\n",
    "pattern=\"^[A-Z][a-z]{5,10}[@][0-9]{5}$\"\n",
    "if re.match(pattern,phone):\n",
    " print(\"valid password\")\n",
    "else:\n",
    " print(\"not a valid password\") "
   ]
  },
  {
   "cell_type": "code",
   "execution_count": null,
   "id": "30fbc541-518c-4076-880f-c4ca0852155a",
   "metadata": {},
   "outputs": [],
   "source": []
  }
 ],
 "metadata": {
  "kernelspec": {
   "display_name": "Python 3 (ipykernel)",
   "language": "python",
   "name": "python3"
  },
  "language_info": {
   "codemirror_mode": {
    "name": "ipython",
    "version": 3
   },
   "file_extension": ".py",
   "mimetype": "text/x-python",
   "name": "python",
   "nbconvert_exporter": "python",
   "pygments_lexer": "ipython3",
   "version": "3.12.7"
  }
 },
 "nbformat": 4,
 "nbformat_minor": 5
}
