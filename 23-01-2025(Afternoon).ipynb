{
 "cells": [
  {
   "cell_type": "code",
   "execution_count": null,
   "id": "9dd86e82-d05e-4235-8d56-fea489194228",
   "metadata": {},
   "outputs": [],
   "source": [
    "# Loop\n",
    "   for loop,while loop"
   ]
  },
  {
   "cell_type": "code",
   "execution_count": null,
   "id": "e1f8b936-c425-43ad-83b5-707c923e5475",
   "metadata": {},
   "outputs": [],
   "source": [
    "syntax for for loop\n",
    "------------------------\n",
    "for value in range(start,end,step_count):\n",
    "    statements"
   ]
  },
  {
   "cell_type": "code",
   "execution_count": 4,
   "id": "0f9afffc-2a8d-4c58-9a70-b128cda5c574",
   "metadata": {},
   "outputs": [
    {
     "name": "stdout",
     "output_type": "stream",
     "text": [
      "1 3 5 7 9 "
     ]
    }
   ],
   "source": [
    "for i in range(1,11,2):\n",
    "    print(i,end= ' ')"
   ]
  },
  {
   "cell_type": "code",
   "execution_count": 6,
   "id": "caffa8af-3397-4c23-a957-02dfa64f85dd",
   "metadata": {},
   "outputs": [
    {
     "name": "stdout",
     "output_type": "stream",
     "text": [
      "name name name name name name name name name name "
     ]
    }
   ],
   "source": [
    "for j in range(10):\n",
    "    print(\"name\",end=' ')"
   ]
  },
  {
   "cell_type": "code",
   "execution_count": 2,
   "id": "a7242fe7-e328-4dcd-aa32-72334337325b",
   "metadata": {},
   "outputs": [
    {
     "name": "stdout",
     "output_type": "stream",
     "text": [
      "10 8 6 4 2 "
     ]
    }
   ],
   "source": [
    "for i in range(10,0,-2):\n",
    "    print(i,end=' ')"
   ]
  },
  {
   "cell_type": "code",
   "execution_count": 5,
   "id": "ce92344a-fdf1-4deb-977e-9d5a8d085592",
   "metadata": {},
   "outputs": [
    {
     "name": "stdin",
     "output_type": "stream",
     "text": [
      "start:  10\n",
      "ending: 100\n",
      "stepcount: 3\n"
     ]
    },
    {
     "name": "stdout",
     "output_type": "stream",
     "text": [
      "10 13 16 19 22 25 28 31 34 37 40 43 46 49 52 55 58 61 64 67 70 73 76 79 82 85 88 91 94 97 "
     ]
    }
   ],
   "source": [
    "s,e,st=int(input(\"start: \")),int(input('ending:')),int(input('stepcount:'))\n",
    "for i in range(s,e,st):\n",
    "    print(i,end=' ')"
   ]
  },
  {
   "cell_type": "code",
   "execution_count": 6,
   "id": "b8aa1c6d-af8e-4a5c-b6e2-3600b53aa7b4",
   "metadata": {},
   "outputs": [
    {
     "name": "stdin",
     "output_type": "stream",
     "text": [
      " 6\n"
     ]
    },
    {
     "name": "stdout",
     "output_type": "stream",
     "text": [
      "6 x 1 = 6\n",
      "6 x 2 = 12\n",
      "6 x 3 = 18\n",
      "6 x 4 = 24\n",
      "6 x 5 = 30\n",
      "6 x 6 = 36\n",
      "6 x 7 = 42\n",
      "6 x 8 = 48\n",
      "6 x 9 = 54\n",
      "6 x 10 = 60\n"
     ]
    }
   ],
   "source": [
    "n = int(input())\n",
    "for i in range(1,11):\n",
    "    print(n,'x',i,'=',n*i)"
   ]
  },
  {
   "cell_type": "code",
   "execution_count": 7,
   "id": "8b7287f0-882e-4a67-b6f3-7cdb1ce69c10",
   "metadata": {},
   "outputs": [
    {
     "name": "stdin",
     "output_type": "stream",
     "text": [
      " 10\n"
     ]
    },
    {
     "name": "stdout",
     "output_type": "stream",
     "text": [
      "1 2 5 10 "
     ]
    }
   ],
   "source": [
    "# factors\n",
    "n = int(input())\n",
    "for i in range(1,n+1):\n",
    "    if(n%i==0):\n",
    "        print(i,end=' ')"
   ]
  },
  {
   "cell_type": "code",
   "execution_count": 9,
   "id": "c9825cf9-a4a1-4c9b-99c2-7077573ce8a5",
   "metadata": {},
   "outputs": [
    {
     "name": "stdin",
     "output_type": "stream",
     "text": [
      " 7\n"
     ]
    },
    {
     "name": "stdout",
     "output_type": "stream",
     "text": [
      "5040\n"
     ]
    }
   ],
   "source": [
    "n = int(input())\n",
    "f = 1\n",
    "for i in range(1,n+1):\n",
    "    f = f*i  # 1*1=1*2=2*3=6*4=24*5=120\n",
    "print(f)"
   ]
  },
  {
   "cell_type": "code",
   "execution_count": 14,
   "id": "7cdec4ba-3099-4f31-a90d-b8cdee5db8d3",
   "metadata": {},
   "outputs": [
    {
     "name": "stdin",
     "output_type": "stream",
     "text": [
      " 11\n"
     ]
    },
    {
     "name": "stdout",
     "output_type": "stream",
     "text": [
      "factors count:  2\n",
      "prime number\n"
     ]
    }
   ],
   "source": [
    "n = int(input())\n",
    "f_count=0\n",
    "for i in range(1,n+1):\n",
    "    if(n%i==0):\n",
    "        f_count+=1\n",
    "print(\"factors count: \",f_count)\n",
    "if(f_count==2):\n",
    "    print(\"prime number\")\n",
    "else:\n",
    "    print(\"not a prime\")"
   ]
  },
  {
   "cell_type": "code",
   "execution_count": null,
   "id": "5a6adae0-2a04-4a14-8689-3484096a9ea6",
   "metadata": {},
   "outputs": [],
   "source": [
    "syntax for while loop\n",
    "---------------------------\n",
    "initialization\n",
    "while(condition):\n",
    "    statements\n",
    "    increment/decrement"
   ]
  },
  {
   "cell_type": "code",
   "execution_count": 16,
   "id": "f06e3ec9-368a-4b5e-848f-24beac87929d",
   "metadata": {},
   "outputs": [
    {
     "name": "stdout",
     "output_type": "stream",
     "text": [
      "1 3 5 7 9 "
     ]
    }
   ],
   "source": [
    "i=1\n",
    "while(i<=10):\n",
    "    print(i,end=' ')\n",
    "    i=i+2"
   ]
  },
  {
   "cell_type": "code",
   "execution_count": 17,
   "id": "d0c05f05-ee71-42a2-ac74-2eee660aea55",
   "metadata": {},
   "outputs": [
    {
     "name": "stdout",
     "output_type": "stream",
     "text": [
      "10 9 8 7 6 5 4 3 2 1 "
     ]
    }
   ],
   "source": [
    "i=10\n",
    "while(i>=1):\n",
    "    print(i,end=' ')\n",
    "    i=i-1"
   ]
  },
  {
   "cell_type": "code",
   "execution_count": 3,
   "id": "49275d02-e4c5-4088-b0f7-e7a5bfb179bc",
   "metadata": {},
   "outputs": [
    {
     "name": "stdin",
     "output_type": "stream",
     "text": [
      " 2364287463782\n"
     ]
    },
    {
     "name": "stdout",
     "output_type": "stream",
     "text": [
      "7 3 7 3 "
     ]
    }
   ],
   "source": [
    "# i/p: 73456\n",
    "# o/p:  5 3 7\n",
    "n = int(input())\n",
    "while(n>0):\n",
    "    r = n%10\n",
    "    if(r%2!=0):\n",
    "        print(r,end=' ')\n",
    "    n=n//10"
   ]
  },
  {
   "cell_type": "code",
   "execution_count": 21,
   "id": "0372a427-3198-4f87-af60-434c72949056",
   "metadata": {},
   "outputs": [
    {
     "data": {
      "text/plain": [
       "7345"
      ]
     },
     "execution_count": 21,
     "metadata": {},
     "output_type": "execute_result"
    }
   ],
   "source": [
    "73456//10"
   ]
  },
  {
   "cell_type": "code",
   "execution_count": null,
   "id": "dbdd9a54-a1dd-4da7-b9ae-e36988b9a310",
   "metadata": {},
   "outputs": [],
   "source": [
    "# i/p: 9837564\n",
    "# o/p:  4 6 8\n",
    "        18"
   ]
  },
  {
   "cell_type": "code",
   "execution_count": 4,
   "id": "2ba0985d-1bb4-4828-bc06-e2c855c67a74",
   "metadata": {},
   "outputs": [
    {
     "name": "stdout",
     "output_type": "stream",
     "text": [
      "1 2 3 4 5 6 "
     ]
    }
   ],
   "source": [
    "# loop control statements\n",
    "for i in range(1,10):\n",
    "    if(i==7):\n",
    "        break\n",
    "    else:\n",
    "        print(i,end=' ')"
   ]
  },
  {
   "cell_type": "code",
   "execution_count": 5,
   "id": "50f3068a-a686-485d-a7d3-2b5cb9f5d6ec",
   "metadata": {},
   "outputs": [
    {
     "name": "stdout",
     "output_type": "stream",
     "text": [
      "1 2 3 4 5 6 8 9 "
     ]
    }
   ],
   "source": [
    "# loop control statements\n",
    "for i in range(1,10):\n",
    "    if(i==7):\n",
    "        continue\n",
    "    else:\n",
    "        print(i,end=' ')"
   ]
  },
  {
   "cell_type": "code",
   "execution_count": null,
   "id": "67527f8b-b51c-42e0-bfa0-adca8371bb5a",
   "metadata": {},
   "outputs": [],
   "source": []
  }
 ],
 "metadata": {
  "kernelspec": {
   "display_name": "Python 3 (ipykernel)",
   "language": "python",
   "name": "python3"
  },
  "language_info": {
   "codemirror_mode": {
    "name": "ipython",
    "version": 3
   },
   "file_extension": ".py",
   "mimetype": "text/x-python",
   "name": "python",
   "nbconvert_exporter": "python",
   "pygments_lexer": "ipython3",
   "version": "3.11.7"
  }
 },
 "nbformat": 4,
 "nbformat_minor": 5
}
