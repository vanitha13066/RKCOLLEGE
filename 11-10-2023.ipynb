{
 "cells": [
  {
   "cell_type": "code",
   "execution_count": 8,
   "id": "7c4ab8cf",
   "metadata": {
    "collapsed": true
   },
   "outputs": [
    {
     "name": "stdout",
     "output_type": "stream",
     "text": [
      "20\n",
      "Factors sum=  22\n",
      "not a perfect\n"
     ]
    }
   ],
   "source": [
    "# Task-3\n",
    "# i/p: 8\n",
    "# o/p: perfect\n",
    "\n",
    "# 6= 1 2 3 6 = 1+2+3=6\n",
    "# 28 = 1 2 4 7 14 28= 1+2+4+7+14=28\n",
    "n = int(input())\n",
    "f_sum=0\n",
    "for i in range(1,n):\n",
    "    if(n%i==0):\n",
    "        f_sum=f_sum+i\n",
    "print(\"Factors sum= \",f_sum)\n",
    "if(n==f_sum):\n",
    "    print(\"Perfect\")\n",
    "else:\n",
    "    print(\"not a perfect\")"
   ]
  },
  {
   "cell_type": "markdown",
   "id": "cec534e1",
   "metadata": {},
   "source": [
    "## while loop\n",
    "    - It is used to execute a block of code repeatedly until \n",
    "       a particular condition is satisfied\n",
    "       "
   ]
  },
  {
   "cell_type": "markdown",
   "id": "fee631a3",
   "metadata": {},
   "source": [
    "- Difference between for and while loop\n",
    "    - for loop is used when we know the no of iterations\n",
    "    - while loop is used when we don't know the no of iterations"
   ]
  },
  {
   "cell_type": "code",
   "execution_count": null,
   "id": "b88013a0",
   "metadata": {},
   "outputs": [],
   "source": [
    "# Syntax for while loop\n",
    "----------------------------\n",
    "intialization\n",
    "while(condition):\n",
    "    statements\n",
    "    increment/decrement"
   ]
  },
  {
   "cell_type": "code",
   "execution_count": 12,
   "id": "c4acd8cb",
   "metadata": {},
   "outputs": [
    {
     "name": "stdout",
     "output_type": "stream",
     "text": [
      "1 2 3 4 5 6 7 8 9 10 "
     ]
    }
   ],
   "source": [
    "# 1 to 10 numbers printing using while loop\n",
    "i=1\n",
    "while(i<=10):\n",
    "    print(i,end=' ')\n",
    "    i=i+1"
   ]
  },
  {
   "cell_type": "code",
   "execution_count": 14,
   "id": "d2192132",
   "metadata": {},
   "outputs": [
    {
     "name": "stdout",
     "output_type": "stream",
     "text": [
      "10 8 6 4 2 "
     ]
    }
   ],
   "source": [
    "# 10 to 1\n",
    "i=10\n",
    "while(i>=1):\n",
    "    print(i,end=' ')\n",
    "    i=i-2"
   ]
  },
  {
   "cell_type": "code",
   "execution_count": 1,
   "id": "8a54c096",
   "metadata": {
    "collapsed": true
   },
   "outputs": [
    {
     "name": "stdout",
     "output_type": "stream",
     "text": [
      "55\n"
     ]
    }
   ],
   "source": [
    "# 1 to 10 numbers total = 55\n",
    "i=1\n",
    "t = 0\n",
    "while(i<=10):\n",
    "    t = t+i\n",
    "    i=i+1\n",
    "print(t)"
   ]
  },
  {
   "cell_type": "code",
   "execution_count": null,
   "id": "a0968e9d",
   "metadata": {},
   "outputs": [],
   "source": [
    "# Reverse of any number\n",
    "# i/p: 374\n",
    "# o/p: 473"
   ]
  },
  {
   "cell_type": "code",
   "execution_count": 10,
   "id": "5b5a7392",
   "metadata": {},
   "outputs": [
    {
     "name": "stdout",
     "output_type": "stream",
     "text": [
      "3745647856\n",
      "6587465473\n"
     ]
    }
   ],
   "source": [
    "n = int(input())\n",
    "rev = 0\n",
    "while(n>0):  # n=374 37>0(T) 3>0(T) 0>0(f)\n",
    "    r = n%10 # 374%10=4 37%10=7 3%10=3\n",
    "    rev = rev*10+r  #0*10+4=4 4*10+7=47 47*10+3=473\n",
    "    n = n//10 # 374//10=37 37//10=3 3//10=0\n",
    "print(rev)"
   ]
  },
  {
   "cell_type": "code",
   "execution_count": null,
   "id": "f34a8570",
   "metadata": {},
   "outputs": [],
   "source": [
    "# Task-1\n",
    "# palindrom"
   ]
  },
  {
   "cell_type": "code",
   "execution_count": null,
   "id": "ee075e00",
   "metadata": {},
   "outputs": [],
   "source": [
    "# i/p: 578269\n",
    "# o/p:  9 7 5"
   ]
  },
  {
   "cell_type": "code",
   "execution_count": 11,
   "id": "ae1c7f48",
   "metadata": {
    "collapsed": true
   },
   "outputs": [
    {
     "name": "stdout",
     "output_type": "stream",
     "text": [
      "278654782364\n",
      "3 7 5 7 "
     ]
    }
   ],
   "source": [
    "n = int(input())\n",
    "while(n>0):\n",
    "    r = n%10\n",
    "    if(r%2==1):\n",
    "        print(r,end=' ')\n",
    "    n = n//10"
   ]
  },
  {
   "cell_type": "markdown",
   "id": "946df58c",
   "metadata": {},
   "source": [
    "## Functions\n",
    "    - It is a block of code which runs only when it is called\n",
    "    \n",
    "    - 2 Types of functions\n",
    "        - 1. built-in functions :- Developed by the developers\n",
    "                    EX:-  print(),type(),len(),min()....\n",
    "       - 2.user defined functions:-\n",
    "             These functions are developed by the users\n",
    "             \n",
    "       - 4 types of udf\n",
    "           - with argument with return value\n",
    "           - with argument without return value\n",
    "           - without argument with return value\n",
    "           - without argument without return value\n",
    "           \n",
    "   - Syntax for functions\n",
    "   ------------------------------------\n",
    "   def functionname(arguments/parameters):  # function definition\n",
    "        statements\n",
    "   functionname(arguments/parameters)  # function calling\n",
    "   \n",
    "   - Advantages\n",
    "   ----------------------------\n",
    "   - code reusability\n",
    "   - reduce the chances of errors\n",
    "   "
   ]
  },
  {
   "cell_type": "code",
   "execution_count": 12,
   "id": "18decef6",
   "metadata": {},
   "outputs": [
    {
     "data": {
      "text/plain": [
       "13"
      ]
     },
     "execution_count": 12,
     "metadata": {},
     "output_type": "execute_result"
    }
   ],
   "source": [
    "# with argument with return value\n",
    "# addition of 2 numbers\n",
    "a,b = 6,7\n",
    "def add1(a,b):\n",
    "    return a+b\n",
    "add1(a,b)"
   ]
  },
  {
   "cell_type": "code",
   "execution_count": 14,
   "id": "01b51d9d",
   "metadata": {
    "collapsed": true
   },
   "outputs": [
    {
     "name": "stdout",
     "output_type": "stream",
     "text": [
      "67\n",
      "89\n",
      "156\n"
     ]
    }
   ],
   "source": [
    "# with argument without return value\n",
    "c,d = int(input()),int(input())\n",
    "def add2(c,d):\n",
    "    print(c+d)\n",
    "add2(c,d)"
   ]
  },
  {
   "cell_type": "code",
   "execution_count": 15,
   "id": "e332f064",
   "metadata": {},
   "outputs": [
    {
     "name": "stdout",
     "output_type": "stream",
     "text": [
      "67\n",
      "33\n"
     ]
    },
    {
     "data": {
      "text/plain": [
       "100"
      ]
     },
     "execution_count": 15,
     "metadata": {},
     "output_type": "execute_result"
    }
   ],
   "source": [
    "# without argument with return value\n",
    "s,e = int(input()),int(input())\n",
    "def add3():\n",
    "    return s+e\n",
    "add3()"
   ]
  },
  {
   "cell_type": "code",
   "execution_count": 16,
   "id": "81b82f53",
   "metadata": {},
   "outputs": [
    {
     "name": "stdout",
     "output_type": "stream",
     "text": [
      "12\n"
     ]
    }
   ],
   "source": [
    "# without argument without return value\n",
    "j,k = 5,7\n",
    "def add4():\n",
    "    print(j+k)\n",
    "add4()"
   ]
  },
  {
   "cell_type": "code",
   "execution_count": 17,
   "id": "48d2a376",
   "metadata": {},
   "outputs": [
    {
     "data": {
      "text/plain": [
       "134"
      ]
     },
     "execution_count": 17,
     "metadata": {},
     "output_type": "execute_result"
    }
   ],
   "source": [
    "add1(56,78)"
   ]
  },
  {
   "cell_type": "code",
   "execution_count": 18,
   "id": "0565e319",
   "metadata": {},
   "outputs": [
    {
     "name": "stdout",
     "output_type": "stream",
     "text": [
      "67\n"
     ]
    }
   ],
   "source": [
    "add2(56,11)"
   ]
  },
  {
   "cell_type": "code",
   "execution_count": 20,
   "id": "0a058514",
   "metadata": {},
   "outputs": [
    {
     "name": "stdout",
     "output_type": "stream",
     "text": [
      "78\n",
      "even\n"
     ]
    }
   ],
   "source": [
    "n = int(input())\n",
    "def evenodd(n):\n",
    "    if(n%2==0):\n",
    "        print('even')\n",
    "    else:\n",
    "        print('odd')\n",
    "evenodd(n)"
   ]
  },
  {
   "cell_type": "code",
   "execution_count": 25,
   "id": "0d6c0ccb",
   "metadata": {
    "collapsed": true
   },
   "outputs": [
    {
     "name": "stdout",
     "output_type": "stream",
     "text": [
      "5\n",
      "prime\n"
     ]
    }
   ],
   "source": [
    "n = int(input())\n",
    "def prime(n):\n",
    "    f_count=0\n",
    "    for i in range(1,n+1):\n",
    "        if(n%i==0):\n",
    "            f_count+=1\n",
    "    if(f_count==2):\n",
    "        print('prime')\n",
    "    else:\n",
    "        print('not prime')\n",
    "prime(n)"
   ]
  },
  {
   "cell_type": "markdown",
   "id": "6e0bd8bb",
   "metadata": {},
   "source": [
    "- Strings\n",
    "        - Anything within the quotes is called a string\n",
    "         (or) Group of characters\n",
    "        - index starts with '0\n",
    "        - We have forward/postive and backward/negative index \n",
    "        - forward index starts with '0'\n",
    "        - backward index starts with '-1'\n",
    "        - String is immutable\n",
    "        - Immutable means we can't change the original string\n",
    "            but we can modify the string"
   ]
  },
  {
   "cell_type": "code",
   "execution_count": 27,
   "id": "21f42bf8",
   "metadata": {},
   "outputs": [
    {
     "name": "stdout",
     "output_type": "stream",
     "text": [
      "Enter any string: 38756784\n",
      "38756784 <class 'str'>\n"
     ]
    }
   ],
   "source": [
    "s = input('Enter any string: ')\n",
    "print(s,type(s))"
   ]
  },
  {
   "cell_type": "code",
   "execution_count": 34,
   "id": "f0f2bb72",
   "metadata": {},
   "outputs": [
    {
     "name": "stdout",
     "output_type": "stream",
     "text": [
      "w o h\n",
      "8\n",
      "p h r\n"
     ]
    }
   ],
   "source": [
    "d = \"workshop\"\n",
    "print(d[0],d[1],d[5]) # forward index\n",
    "print(len(d))\n",
    "print(d[-1],d[-3],d[-6]) # backward index"
   ]
  },
  {
   "cell_type": "markdown",
   "id": "1549d29e",
   "metadata": {},
   "source": [
    "- slicing\n",
    "    - cutting into pieces (or)\n",
    "    - extracting the sub strings from the original string"
   ]
  },
  {
   "cell_type": "code",
   "execution_count": 49,
   "id": "1eb18584",
   "metadata": {},
   "outputs": [
    {
     "name": "stdout",
     "output_type": "stream",
     "text": [
      "workshop\n",
      "work\n",
      "rksh\n",
      "orksho\n",
      "kshop hop\n",
      "worksh worksh\n",
      "workshop\n",
      "wrso wrso\n",
      "wko\n"
     ]
    }
   ],
   "source": [
    "# syntax :-   string_name[start:end:stepcount]\n",
    "print(d)\n",
    "print(d[0:4])\n",
    "print(d[2:6])\n",
    "print(d[1:7])\n",
    "print(d[3:8],d[5:])\n",
    "print(d[0:6],d[:6])\n",
    "print(d[:])\n",
    "print(d[0:8:2],d[0::2])\n",
    "print(d[0::3])"
   ]
  },
  {
   "cell_type": "code",
   "execution_count": 53,
   "id": "927b2f55",
   "metadata": {},
   "outputs": [
    {
     "name": "stdout",
     "output_type": "stream",
     "text": [
      "w h ['h', 'k', 'o', 'o', 'p', 'r', 's', 'w']\n"
     ]
    }
   ],
   "source": [
    "# len(),min(),max(),sorted(),sum()\n",
    "print(max(d),min(d),sorted(d))"
   ]
  },
  {
   "cell_type": "code",
   "execution_count": 54,
   "id": "0ca68a2d",
   "metadata": {},
   "outputs": [
    {
     "data": {
      "text/plain": [
       "'abc'"
      ]
     },
     "execution_count": 54,
     "metadata": {},
     "output_type": "execute_result"
    }
   ],
   "source": [
    "'a'+'b'+'c'"
   ]
  },
  {
   "cell_type": "code",
   "execution_count": 55,
   "id": "6d806d0c",
   "metadata": {},
   "outputs": [
    {
     "name": "stdout",
     "output_type": "stream",
     "text": [
      "['__add__', '__class__', '__contains__', '__delattr__', '__dir__', '__doc__', '__eq__', '__format__', '__ge__', '__getattribute__', '__getitem__', '__getnewargs__', '__getstate__', '__gt__', '__hash__', '__init__', '__init_subclass__', '__iter__', '__le__', '__len__', '__lt__', '__mod__', '__mul__', '__ne__', '__new__', '__reduce__', '__reduce_ex__', '__repr__', '__rmod__', '__rmul__', '__setattr__', '__sizeof__', '__str__', '__subclasshook__', 'capitalize', 'casefold', 'center', 'count', 'encode', 'endswith', 'expandtabs', 'find', 'format', 'format_map', 'index', 'isalnum', 'isalpha', 'isascii', 'isdecimal', 'isdigit', 'isidentifier', 'islower', 'isnumeric', 'isprintable', 'isspace', 'istitle', 'isupper', 'join', 'ljust', 'lower', 'lstrip', 'maketrans', 'partition', 'removeprefix', 'removesuffix', 'replace', 'rfind', 'rindex', 'rjust', 'rpartition', 'rsplit', 'rstrip', 'split', 'splitlines', 'startswith', 'strip', 'swapcase', 'title', 'translate', 'upper', 'zfill'] "
     ]
    }
   ],
   "source": [
    "# how to find string methods\n",
    "print(dir(str),end=' ')"
   ]
  },
  {
   "cell_type": "markdown",
   "id": "d97052cc",
   "metadata": {},
   "source": [
    "- References\n",
    "    - www.w3schools.com\n",
    "    - www.javatpoint.com"
   ]
  },
  {
   "cell_type": "code",
   "execution_count": 57,
   "id": "b0db992f",
   "metadata": {},
   "outputs": [
    {
     "name": "stdout",
     "output_type": "stream",
     "text": [
      "Python\n",
      "Python workshop\n"
     ]
    }
   ],
   "source": [
    "# capitalize()\n",
    "s = \"python\"\n",
    "s1 = \"python workshop\"\n",
    "print(s.capitalize())\n",
    "print(s1.capitalize())"
   ]
  },
  {
   "cell_type": "code",
   "execution_count": 58,
   "id": "2c705de0",
   "metadata": {},
   "outputs": [
    {
     "data": {
      "text/plain": [
       "'Python Workshop'"
      ]
     },
     "execution_count": 58,
     "metadata": {},
     "output_type": "execute_result"
    }
   ],
   "source": [
    "# title\n",
    "s1.title()"
   ]
  },
  {
   "cell_type": "code",
   "execution_count": 77,
   "id": "4e86eecb",
   "metadata": {},
   "outputs": [
    {
     "data": {
      "text/plain": [
       "'jupyter'"
      ]
     },
     "execution_count": 77,
     "metadata": {},
     "output_type": "execute_result"
    }
   ],
   "source": [
    "# casefold()\n",
    "k2 = \"JupYTer\"\n",
    "k2.casefold()"
   ]
  },
  {
   "cell_type": "code",
   "execution_count": 78,
   "id": "062452f4",
   "metadata": {},
   "outputs": [
    {
     "data": {
      "text/plain": [
       "'dkfJDHFfitiIRTI'"
      ]
     },
     "execution_count": 78,
     "metadata": {},
     "output_type": "execute_result"
    }
   ],
   "source": [
    "# swapcase()\n",
    "n = \"DKFjdhfFITIirti\"\n",
    "n.swapcase()"
   ]
  },
  {
   "cell_type": "code",
   "execution_count": 61,
   "id": "70060020",
   "metadata": {},
   "outputs": [
    {
     "name": "stdout",
     "output_type": "stream",
     "text": [
      "BOOK\n",
      "edit\n"
     ]
    }
   ],
   "source": [
    "# upper(),lower()\n",
    "k = \"book\"\n",
    "k1 = \"EDIT\"\n",
    "print(k.upper())\n",
    "print(k1.lower())"
   ]
  },
  {
   "cell_type": "code",
   "execution_count": 79,
   "id": "8b6319c6",
   "metadata": {},
   "outputs": [
    {
     "data": {
      "text/plain": [
       "'             name             '"
      ]
     },
     "execution_count": 79,
     "metadata": {},
     "output_type": "execute_result"
    }
   ],
   "source": [
    "# center()\n",
    "g = \"name\"\n",
    "g.center(30)"
   ]
  },
  {
   "cell_type": "code",
   "execution_count": 66,
   "id": "15b0124d",
   "metadata": {},
   "outputs": [
    {
     "name": "stdout",
     "output_type": "stream",
     "text": [
      "True False\n",
      "True False\n"
     ]
    }
   ],
   "source": [
    "# startswith(),endswith()\n",
    "a = \"abcd\"\n",
    "print(a.startswith('a'),a.startswith('d'))\n",
    "print(a.endswith('d'),a.endswith('a'))"
   ]
  },
  {
   "cell_type": "code",
   "execution_count": 73,
   "id": "a6aebc3a",
   "metadata": {},
   "outputs": [
    {
     "name": "stdout",
     "output_type": "stream",
     "text": [
      "0 1 4\n",
      "6\n"
     ]
    },
    {
     "ename": "ValueError",
     "evalue": "substring not found",
     "output_type": "error",
     "traceback": [
      "\u001b[1;31m---------------------------------------------------------------------------\u001b[0m",
      "\u001b[1;31mValueError\u001b[0m                                Traceback (most recent call last)",
      "Cell \u001b[1;32mIn[73], line 5\u001b[0m\n\u001b[0;32m      3\u001b[0m \u001b[38;5;28mprint\u001b[39m(b\u001b[38;5;241m.\u001b[39mindex(\u001b[38;5;124m'\u001b[39m\u001b[38;5;124mw\u001b[39m\u001b[38;5;124m'\u001b[39m),b\u001b[38;5;241m.\u001b[39mindex(\u001b[38;5;124m'\u001b[39m\u001b[38;5;124mo\u001b[39m\u001b[38;5;124m'\u001b[39m),b\u001b[38;5;241m.\u001b[39mindex(\u001b[38;5;124m'\u001b[39m\u001b[38;5;124ms\u001b[39m\u001b[38;5;124m'\u001b[39m))\n\u001b[0;32m      4\u001b[0m \u001b[38;5;28mprint\u001b[39m(b\u001b[38;5;241m.\u001b[39mrindex(\u001b[38;5;124m'\u001b[39m\u001b[38;5;124mo\u001b[39m\u001b[38;5;124m'\u001b[39m))\n\u001b[1;32m----> 5\u001b[0m \u001b[38;5;28mprint\u001b[39m(b\u001b[38;5;241m.\u001b[39mindex(\u001b[38;5;124m'\u001b[39m\u001b[38;5;124mz\u001b[39m\u001b[38;5;124m'\u001b[39m))\n",
      "\u001b[1;31mValueError\u001b[0m: substring not found"
     ]
    }
   ],
   "source": [
    "# index(),rindex()\n",
    "b = 'workshop'\n",
    "print(b.index('w'),b.index('o'),b.index('s'))\n",
    "print(b.rindex('o'))\n",
    "print(b.index('z'))"
   ]
  },
  {
   "cell_type": "code",
   "execution_count": 80,
   "id": "1e1574fb",
   "metadata": {},
   "outputs": [
    {
     "name": "stdout",
     "output_type": "stream",
     "text": [
      "0 1 4\n",
      "6\n",
      "-1\n"
     ]
    }
   ],
   "source": [
    "# find(),rfind()\n",
    "b = 'workshop'\n",
    "print(b.find('w'),b.find('o'),b.find('s'))\n",
    "print(b.rfind('o'))\n",
    "print(b.find('z'))"
   ]
  },
  {
   "cell_type": "code",
   "execution_count": 86,
   "id": "e1010f2b",
   "metadata": {},
   "outputs": [
    {
     "name": "stdout",
     "output_type": "stream",
     "text": [
      "True\n",
      "False\n"
     ]
    }
   ],
   "source": [
    "# isalpha(),isalnum()\n",
    "g1 = \"abcd\"\n",
    "print(g1.isalpha())\n",
    "g2 = \"jsdhf$^*\"\n",
    "print(g2.isalnum())"
   ]
  },
  {
   "cell_type": "code",
   "execution_count": 91,
   "id": "ad319153",
   "metadata": {},
   "outputs": [
    {
     "name": "stdout",
     "output_type": "stream",
     "text": [
      "True\n",
      "False\n"
     ]
    }
   ],
   "source": [
    "# isdigit(),isspace()\n",
    "k = \"37824673\"\n",
    "print(k.isdigit())\n",
    "n = \"   \"\n",
    "print(n.isspace())"
   ]
  },
  {
   "cell_type": "code",
   "execution_count": 93,
   "id": "1ff778b0",
   "metadata": {},
   "outputs": [
    {
     "name": "stdout",
     "output_type": "stream",
     "text": [
      "True\n"
     ]
    }
   ],
   "source": [
    "# istitle()\n",
    "b = \"Hi Hello Fyn\"\n",
    "print(b.istitle())"
   ]
  },
  {
   "cell_type": "code",
   "execution_count": 122,
   "id": "9be81849",
   "metadata": {},
   "outputs": [
    {
     "name": "stdout",
     "output_type": "stream",
     "text": [
      "True False\n",
      "False True\n"
     ]
    }
   ],
   "source": [
    "# isupper(),islower()\n",
    "d,f = \"EIREI\",'djfdjfh'\n",
    "print(d.isupper(),f.isupper())\n",
    "print(d.islower(),f.islower())"
   ]
  },
  {
   "cell_type": "code",
   "execution_count": 94,
   "id": "8dd0c256",
   "metadata": {},
   "outputs": [
    {
     "data": {
      "text/plain": [
       "['hi', 'hello', 'gd', 'afternoon']"
      ]
     },
     "execution_count": 94,
     "metadata": {},
     "output_type": "execute_result"
    }
   ],
   "source": [
    "# split()\n",
    "h = \"hi hello gd afternoon\"\n",
    "h.split()"
   ]
  },
  {
   "cell_type": "code",
   "execution_count": 97,
   "id": "44d34b5d",
   "metadata": {},
   "outputs": [
    {
     "data": {
      "text/plain": [
       "['hi h2e', 'l2lo gd aft2e', 'r2no2on']"
      ]
     },
     "execution_count": 97,
     "metadata": {},
     "output_type": "execute_result"
    }
   ],
   "source": [
    "h = \"hi h2e@l2lo gd aft2e@r2no2on\"\n",
    "h.split('@')"
   ]
  },
  {
   "cell_type": "code",
   "execution_count": 100,
   "id": "7554cb53",
   "metadata": {},
   "outputs": [
    {
     "name": "stdout",
     "output_type": "stream",
     "text": [
      "a()p()s()s()d()c\n"
     ]
    }
   ],
   "source": [
    "# join()\n",
    "f = \"apssdc\"\n",
    "f1 = \"()\".join(f)\n",
    "print(f1)"
   ]
  },
  {
   "cell_type": "code",
   "execution_count": 101,
   "id": "bd3705cc",
   "metadata": {},
   "outputs": [
    {
     "data": {
      "text/plain": [
       "'apssyc'"
      ]
     },
     "execution_count": 101,
     "metadata": {},
     "output_type": "execute_result"
    }
   ],
   "source": [
    "# replace()\n",
    "f.replace('d','y')"
   ]
  },
  {
   "cell_type": "code",
   "execution_count": 102,
   "id": "ee8687a2",
   "metadata": {},
   "outputs": [
    {
     "name": "stdout",
     "output_type": "stream",
     "text": [
      "apssdc\n"
     ]
    }
   ],
   "source": [
    "print(f)"
   ]
  },
  {
   "cell_type": "code",
   "execution_count": 106,
   "id": "bf2d68fe",
   "metadata": {},
   "outputs": [
    {
     "name": "stdout",
     "output_type": "stream",
     "text": [
      "pen\n",
      "book\n",
      "pencil\n"
     ]
    }
   ],
   "source": [
    "# strip,lstrip(),rstrip()\n",
    "c = \"    pen     \"\n",
    "c1 = \"     book\"\n",
    "c2 = \"pencil     \"\n",
    "print(c.strip())\n",
    "print(c1.lstrip())\n",
    "print(c2.rstrip())"
   ]
  },
  {
   "cell_type": "code",
   "execution_count": 109,
   "id": "0e743a9b",
   "metadata": {},
   "outputs": [
    {
     "data": {
      "text/plain": [
       "'00000000000000000000000000000000000000000000python'"
      ]
     },
     "execution_count": 109,
     "metadata": {},
     "output_type": "execute_result"
    }
   ],
   "source": [
    "# zfill()\n",
    "j = \"python\"\n",
    "j.zfill(50)"
   ]
  },
  {
   "cell_type": "code",
   "execution_count": 110,
   "id": "1b7d73f0",
   "metadata": {},
   "outputs": [
    {
     "data": {
      "text/plain": [
       "'eman'"
      ]
     },
     "execution_count": 110,
     "metadata": {},
     "output_type": "execute_result"
    }
   ],
   "source": [
    "# String reverse\n",
    "s = \"name\"\n",
    "s[::-1]"
   ]
  },
  {
   "cell_type": "code",
   "execution_count": 112,
   "id": "ab542a8b",
   "metadata": {},
   "outputs": [
    {
     "name": "stdout",
     "output_type": "stream",
     "text": [
      "n a m e "
     ]
    }
   ],
   "source": [
    "for i in s:\n",
    "    print(i,end=' ')"
   ]
  },
  {
   "cell_type": "code",
   "execution_count": 117,
   "id": "bc2031cb",
   "metadata": {},
   "outputs": [
    {
     "name": "stdout",
     "output_type": "stream",
     "text": [
      "abc\n",
      "Not palindrom\n"
     ]
    }
   ],
   "source": [
    "# wow-- wow\n",
    "n = input()\n",
    "if(n==n[::-1]):\n",
    "    print(\"Palindrom\")\n",
    "else:\n",
    "    print(\"Not palindrom\")"
   ]
  },
  {
   "cell_type": "code",
   "execution_count": 124,
   "id": "247602f5",
   "metadata": {},
   "outputs": [
    {
     "name": "stdout",
     "output_type": "stream",
     "text": [
      "Uppercase Characters are :  ASSC\n",
      "Lowercase Characters are:  pd\n",
      "Digits are:  56857\n",
      "Special Characters are:  %(@@!\n"
     ]
    }
   ],
   "source": [
    "s = \"ApSS%(@dC@56857!\"\n",
    "up=lw=di=sp=\"\"\n",
    "for i in s:  # A\n",
    "    if(i.isupper()): # \n",
    "        up=up+i # ASSC\n",
    "    elif(i.islower()): #\n",
    "        lw=lw+i # pd\n",
    "    elif(i.isdigit()):\n",
    "        di=di+i # 56857\n",
    "    else:\n",
    "        sp=sp+i # %@(@)@!\n",
    "print('Uppercase Characters are : ',up)\n",
    "print('Lowercase Characters are: ',lw)\n",
    "print('Digits are: ',di)\n",
    "print('Special Characters are: ',sp)"
   ]
  },
  {
   "cell_type": "markdown",
   "id": "03ffc68f",
   "metadata": {},
   "source": [
    "## Data Structures\n",
    "    - A way of organizing the data is called a ds\n",
    "    \n",
    "    - 4 types \n",
    "        - tuple\n",
    "        - list\n",
    "        - dict\n",
    "        - set"
   ]
  },
  {
   "cell_type": "markdown",
   "id": "2c6c3390",
   "metadata": {},
   "source": [
    "- tuple\n",
    "    - It is used to store multiple items in a single variable\n",
    "    - Index starts with '0'\n",
    "    - It can allow the duplicates\n",
    "    - We can store hetrogeneous data\n",
    "    - **Tuple is immutable\n",
    "    - Represented by (),values can be separated by ,\n"
   ]
  },
  {
   "cell_type": "code",
   "execution_count": 125,
   "id": "244ce4d5",
   "metadata": {},
   "outputs": [
    {
     "name": "stdout",
     "output_type": "stream",
     "text": [
      "() <class 'tuple'>\n"
     ]
    }
   ],
   "source": [
    "# empty tuple\n",
    "t = ()\n",
    "print(t,type(t))"
   ]
  },
  {
   "cell_type": "code",
   "execution_count": 126,
   "id": "0529ec61",
   "metadata": {},
   "outputs": [
    {
     "name": "stdout",
     "output_type": "stream",
     "text": [
      "(4, 5, 6, 'a', 'b', 6.8, 1.8)\n"
     ]
    }
   ],
   "source": [
    "t1 = (4,5,6,'a','b',6.8,1.8)\n",
    "print(t1)"
   ]
  },
  {
   "cell_type": "code",
   "execution_count": 132,
   "id": "62512a73",
   "metadata": {},
   "outputs": [
    {
     "name": "stdout",
     "output_type": "stream",
     "text": [
      "6 1.8 56 [1.8, 4, 5, 6, 6.8, 56] 79.6\n"
     ]
    }
   ],
   "source": [
    "t2 = (4,5,6,56,6.8,1.8)\n",
    "print(len(t2),min(t2),max(t2),sorted(t2),sum(t2))"
   ]
  },
  {
   "cell_type": "code",
   "execution_count": 133,
   "id": "da9ae5d1",
   "metadata": {},
   "outputs": [
    {
     "name": "stdout",
     "output_type": "stream",
     "text": [
      "['__add__', '__class__', '__class_getitem__', '__contains__', '__delattr__', '__dir__', '__doc__', '__eq__', '__format__', '__ge__', '__getattribute__', '__getitem__', '__getnewargs__', '__getstate__', '__gt__', '__hash__', '__init__', '__init_subclass__', '__iter__', '__le__', '__len__', '__lt__', '__mul__', '__ne__', '__new__', '__reduce__', '__reduce_ex__', '__repr__', '__rmul__', '__setattr__', '__sizeof__', '__str__', '__subclasshook__', 'count', 'index'] "
     ]
    }
   ],
   "source": [
    "# how to find tuple methods\n",
    "print(dir(tuple),end=' ')"
   ]
  },
  {
   "cell_type": "code",
   "execution_count": 137,
   "id": "acdcb0c2",
   "metadata": {},
   "outputs": [
    {
     "name": "stdout",
     "output_type": "stream",
     "text": [
      "6\n",
      "7\n",
      "1\n"
     ]
    }
   ],
   "source": [
    "# count(),index()\n",
    "t2 = (4,5,6,56,6.8,1.8,4,4,4,4,4,5,5,4,5,5,5)\n",
    "print(t2.count(5))\n",
    "print(t2.count(4))\n",
    "print(t2.index(5))"
   ]
  },
  {
   "cell_type": "code",
   "execution_count": 138,
   "id": "52145f75",
   "metadata": {},
   "outputs": [
    {
     "name": "stdout",
     "output_type": "stream",
     "text": [
      "4 5 6 56 6.8 1.8 "
     ]
    }
   ],
   "source": [
    "t2 = (4,5,6,56,6.8,1.8)\n",
    "for i in t2:\n",
    "    print(i,end=' ')"
   ]
  },
  {
   "cell_type": "code",
   "execution_count": 139,
   "id": "e03dc2be",
   "metadata": {},
   "outputs": [
    {
     "name": "stdout",
     "output_type": "stream",
     "text": [
      "4 6 56 "
     ]
    }
   ],
   "source": [
    "t2 = (4,5,6,56,6.8,1.8)\n",
    "for i in t2:\n",
    "    if(i%2==0):\n",
    "        print(i,end=' ')"
   ]
  },
  {
   "cell_type": "code",
   "execution_count": 140,
   "id": "51a6cfe2",
   "metadata": {},
   "outputs": [
    {
     "name": "stdout",
     "output_type": "stream",
     "text": [
      "79.6\n"
     ]
    }
   ],
   "source": [
    "t = 0\n",
    "for i in t2:\n",
    "    t = t+i\n",
    "print(t)"
   ]
  },
  {
   "cell_type": "code",
   "execution_count": null,
   "id": "95de84ff",
   "metadata": {},
   "outputs": [],
   "source": []
  }
 ],
 "metadata": {
  "kernelspec": {
   "display_name": "Python 3 (ipykernel)",
   "language": "python",
   "name": "python3"
  },
  "language_info": {
   "codemirror_mode": {
    "name": "ipython",
    "version": 3
   },
   "file_extension": ".py",
   "mimetype": "text/x-python",
   "name": "python",
   "nbconvert_exporter": "python",
   "pygments_lexer": "ipython3",
   "version": "3.11.5"
  }
 },
 "nbformat": 4,
 "nbformat_minor": 5
}
