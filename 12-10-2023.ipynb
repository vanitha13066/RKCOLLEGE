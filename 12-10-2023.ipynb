{
 "cells": [
  {
   "cell_type": "markdown",
   "id": "dc8f5e56",
   "metadata": {},
   "source": [
    "- List\n",
    "    - List is an ordered and changeable collection of data\n",
    "    - It is mutable\n",
    "    - Index starts with '0'\n",
    "    - We can store different kinds of data\n",
    "    - It can allow duplicates\n",
    "    - Represented by [], values can be separated by ,"
   ]
  },
  {
   "cell_type": "code",
   "execution_count": 1,
   "id": "7b660746",
   "metadata": {},
   "outputs": [
    {
     "name": "stdout",
     "output_type": "stream",
     "text": [
      "[] <class 'list'>\n"
     ]
    }
   ],
   "source": [
    "# Empty list\n",
    "li = []\n",
    "print(li,type(li))"
   ]
  },
  {
   "cell_type": "code",
   "execution_count": 2,
   "id": "fa9cadb6",
   "metadata": {},
   "outputs": [
    {
     "name": "stdout",
     "output_type": "stream",
     "text": [
      "[3, 4, 5, 'a', 'v', 6.8, 1.7, 45, 8, 1, 2, 3, 3, 3, 9] <class 'list'>\n"
     ]
    }
   ],
   "source": [
    "li = [3,4,5,'a','v',6.8,1.7,45,8,1,2,3,3,3,9]\n",
    "print(li,type(li))"
   ]
  },
  {
   "cell_type": "code",
   "execution_count": 11,
   "id": "eaa05062",
   "metadata": {},
   "outputs": [
    {
     "name": "stdout",
     "output_type": "stream",
     "text": [
      "3 4 5 9 3\n",
      "[3, 4, 5, 'a', 'v']\n",
      "[3, 5, 'v', 1.7, 8, 2, 3, 9]\n",
      "[3, 'a', 1.7, 1, 3] [3, 'v', 8, 3]\n"
     ]
    }
   ],
   "source": [
    "print(li[0],li[1],li[2],li[-1],li[-2])\n",
    "print(li[0:5])\n",
    "print(li[0::2])\n",
    "print(li[0::3],li[0::4])"
   ]
  },
  {
   "cell_type": "code",
   "execution_count": 12,
   "id": "c18ebdd2",
   "metadata": {},
   "outputs": [
    {
     "name": "stdout",
     "output_type": "stream",
     "text": [
      "[9, 3, 3, 3, 2, 1, 8, 45, 1.7, 6.8, 'v', 'a', 5, 4, 3]\n"
     ]
    }
   ],
   "source": [
    "print(li[::-1])"
   ]
  },
  {
   "cell_type": "code",
   "execution_count": 13,
   "id": "0816cbb4",
   "metadata": {},
   "outputs": [
    {
     "data": {
      "text/plain": [
       "[4, 5, 6, [3, 5, 6, 0], 45, 78, 89, 33]"
      ]
     },
     "execution_count": 13,
     "metadata": {},
     "output_type": "execute_result"
    }
   ],
   "source": [
    "li2 = [4,5,6,[3,5,6,0],45,78,89,33]  # nested list\n",
    "li2"
   ]
  },
  {
   "cell_type": "code",
   "execution_count": 14,
   "id": "74bf9b89",
   "metadata": {},
   "outputs": [
    {
     "name": "stdout",
     "output_type": "stream",
     "text": [
      "[3, 5, 6, 0]\n"
     ]
    }
   ],
   "source": [
    "print(li2[3])"
   ]
  },
  {
   "cell_type": "code",
   "execution_count": 15,
   "id": "0d3c619c",
   "metadata": {},
   "outputs": [
    {
     "name": "stdout",
     "output_type": "stream",
     "text": [
      "6\n"
     ]
    }
   ],
   "source": [
    "print(li2[3][2])"
   ]
  },
  {
   "cell_type": "code",
   "execution_count": 20,
   "id": "71dac36b",
   "metadata": {},
   "outputs": [
    {
     "name": "stdout",
     "output_type": "stream",
     "text": [
      "7 89 4\n",
      "[4, 5, 6, 33, 45, 78, 89] 260\n"
     ]
    }
   ],
   "source": [
    "li2 = [4,5,6,45,78,89,33] \n",
    "print(len(li2),max(li2),min(li2))\n",
    "print(sorted(li2),sum(li2))"
   ]
  },
  {
   "cell_type": "code",
   "execution_count": 21,
   "id": "5ebde9fe",
   "metadata": {},
   "outputs": [
    {
     "name": "stdout",
     "output_type": "stream",
     "text": [
      "['__add__', '__class__', '__class_getitem__', '__contains__', '__delattr__', '__delitem__', '__dir__', '__doc__', '__eq__', '__format__', '__ge__', '__getattribute__', '__getitem__', '__getstate__', '__gt__', '__hash__', '__iadd__', '__imul__', '__init__', '__init_subclass__', '__iter__', '__le__', '__len__', '__lt__', '__mul__', '__ne__', '__new__', '__reduce__', '__reduce_ex__', '__repr__', '__reversed__', '__rmul__', '__setattr__', '__setitem__', '__sizeof__', '__str__', '__subclasshook__', 'append', 'clear', 'copy', 'count', 'extend', 'index', 'insert', 'pop', 'remove', 'reverse', 'sort'] "
     ]
    }
   ],
   "source": [
    "# How to find list methods \n",
    "print(dir(list),end=' ')"
   ]
  },
  {
   "cell_type": "code",
   "execution_count": 22,
   "id": "239a0d21",
   "metadata": {},
   "outputs": [
    {
     "data": {
      "text/plain": [
       "[45, 78, 89, 33, 56, 89, 23]"
      ]
     },
     "execution_count": 22,
     "metadata": {},
     "output_type": "execute_result"
    }
   ],
   "source": [
    "# append()\n",
    "li2 =[45,78,89,33,56,89]\n",
    "li2.append(23)\n",
    "li2"
   ]
  },
  {
   "cell_type": "code",
   "execution_count": 25,
   "id": "aaa292d6",
   "metadata": {},
   "outputs": [
    {
     "name": "stdout",
     "output_type": "stream",
     "text": [
      "3\n",
      "7\n"
     ]
    }
   ],
   "source": [
    "# count(),index()\n",
    "li2 =[45,78,89,33,56,89,4,5,5,2,2,2,22,67,89]\n",
    "print(li2.count(2))\n",
    "print(li2.index(5))"
   ]
  },
  {
   "cell_type": "code",
   "execution_count": 27,
   "id": "bd8c3943",
   "metadata": {},
   "outputs": [
    {
     "data": {
      "text/plain": [
       "[5, 6, 88, 7, 77, 23]"
      ]
     },
     "execution_count": 27,
     "metadata": {},
     "output_type": "execute_result"
    }
   ],
   "source": [
    "# insert()\n",
    "li1 = [5, 6, 7, 77, 23]\n",
    "li1.insert(2,88)\n",
    "li1"
   ]
  },
  {
   "cell_type": "code",
   "execution_count": 28,
   "id": "8db9790a",
   "metadata": {},
   "outputs": [
    {
     "data": {
      "text/plain": [
       "23"
      ]
     },
     "execution_count": 28,
     "metadata": {},
     "output_type": "execute_result"
    }
   ],
   "source": [
    "# pop()\n",
    "li1.pop()"
   ]
  },
  {
   "cell_type": "code",
   "execution_count": 29,
   "id": "bb31e21f",
   "metadata": {},
   "outputs": [
    {
     "data": {
      "text/plain": [
       "[5, 6, 88, 7, 77]"
      ]
     },
     "execution_count": 29,
     "metadata": {},
     "output_type": "execute_result"
    }
   ],
   "source": [
    "li1"
   ]
  },
  {
   "cell_type": "code",
   "execution_count": 30,
   "id": "a21f9ce7",
   "metadata": {},
   "outputs": [],
   "source": [
    "# remove()\n",
    "li1.remove(6)"
   ]
  },
  {
   "cell_type": "code",
   "execution_count": 31,
   "id": "99fa43c3",
   "metadata": {},
   "outputs": [
    {
     "data": {
      "text/plain": [
       "[5, 88, 7, 77]"
      ]
     },
     "execution_count": 31,
     "metadata": {},
     "output_type": "execute_result"
    }
   ],
   "source": [
    "li1"
   ]
  },
  {
   "cell_type": "code",
   "execution_count": 34,
   "id": "807744c6",
   "metadata": {},
   "outputs": [
    {
     "name": "stdout",
     "output_type": "stream",
     "text": [
      "[3, 5, 6] [3, 5, 6]\n",
      "6\n",
      "[3, 5] [3, 5]\n"
     ]
    }
   ],
   "source": [
    "a = [3,5,6]\n",
    "b = a\n",
    "print(a,b)\n",
    "print(a.pop())\n",
    "print(a,b)"
   ]
  },
  {
   "cell_type": "code",
   "execution_count": 35,
   "id": "9e791682",
   "metadata": {},
   "outputs": [
    {
     "name": "stdout",
     "output_type": "stream",
     "text": [
      "[5, 6, 7] [5, 6, 7]\n",
      "7\n",
      "[5, 6] [5, 6, 7]\n"
     ]
    }
   ],
   "source": [
    "# copy()\n",
    "li1 = [5,6,7]\n",
    "li2 = li1.copy()\n",
    "print(li1,li2)\n",
    "print(li1.pop())\n",
    "print(li1,li2)"
   ]
  },
  {
   "cell_type": "code",
   "execution_count": 39,
   "id": "b4e6ac4e",
   "metadata": {},
   "outputs": [
    {
     "name": "stdout",
     "output_type": "stream",
     "text": [
      "[5, 6, 7, 1, 2, 3] [1, 2, 3]\n"
     ]
    }
   ],
   "source": [
    "# extend()\n",
    "x,y = [5, 6, 7],[1,2,3]\n",
    "x.extend(y)\n",
    "print(x,y)"
   ]
  },
  {
   "cell_type": "code",
   "execution_count": 40,
   "id": "ed72a3f1",
   "metadata": {},
   "outputs": [],
   "source": [
    "# clear()\n",
    "x.clear()"
   ]
  },
  {
   "cell_type": "code",
   "execution_count": 41,
   "id": "d5e58ad2",
   "metadata": {},
   "outputs": [
    {
     "data": {
      "text/plain": [
       "[]"
      ]
     },
     "execution_count": 41,
     "metadata": {},
     "output_type": "execute_result"
    }
   ],
   "source": [
    "x"
   ]
  },
  {
   "cell_type": "code",
   "execution_count": 44,
   "id": "5c57d7a6",
   "metadata": {},
   "outputs": [
    {
     "name": "stdout",
     "output_type": "stream",
     "text": [
      "2 3 4 5 6 67 88 "
     ]
    }
   ],
   "source": [
    "li = [2,3,4,5,6,67,88]\n",
    "for i in li:\n",
    "    print(i,end= ' ')"
   ]
  },
  {
   "cell_type": "code",
   "execution_count": 45,
   "id": "ff1493d2",
   "metadata": {},
   "outputs": [
    {
     "name": "stdout",
     "output_type": "stream",
     "text": [
      "4245120\n"
     ]
    }
   ],
   "source": [
    "f = 1\n",
    "for i in li:\n",
    "    f = f*i\n",
    "print(f)"
   ]
  },
  {
   "cell_type": "code",
   "execution_count": 46,
   "id": "bd66d5fb",
   "metadata": {},
   "outputs": [
    {
     "name": "stdout",
     "output_type": "stream",
     "text": [
      "[4, 6, 78]\n"
     ]
    }
   ],
   "source": [
    "# i/p: [4,5,6,1,67,78]\n",
    "# o/p: [4,6,78]\n",
    "li = [4,5,6,1,67,78]\n",
    "li1 = []\n",
    "for i in li:\n",
    "    if(i%2==0):\n",
    "        li1.append(i)\n",
    "print(li1)        "
   ]
  },
  {
   "cell_type": "code",
   "execution_count": 49,
   "id": "73b4ac28",
   "metadata": {},
   "outputs": [
    {
     "name": "stdout",
     "output_type": "stream",
     "text": [
      "[4, 5, 6, 89, 23, 77, 3, 7]\n"
     ]
    }
   ],
   "source": [
    "# Removing duplicates in a list\n",
    "# i/p: a = [4,5,6,89,23,77,89,5,3,3,7,7]\n",
    "# o/p: [4,5,6,89,23,77,3,7]\n",
    "a = [4,5,6,89,23,77,89,5,3,3,7,7]\n",
    "li = []  #4 5 6 89 23 77 3 7 ] \n",
    "for i in a:  # [4,5\n",
    "    if i not in li: # 4\n",
    "        li.append(i)\n",
    "print(li)"
   ]
  },
  {
   "cell_type": "code",
   "execution_count": null,
   "id": "c7110ebc",
   "metadata": {},
   "outputs": [],
   "source": [
    "# task-1\n",
    "# print unique elements in the list\n",
    "# i/p: [3,4,5,1,2,3,4,5,1,2,8,9,45,67]\n",
    "# o/p: [8,9,45,67]"
   ]
  },
  {
   "cell_type": "markdown",
   "id": "2a59a393",
   "metadata": {},
   "source": [
    "- Dictionary\n",
    "    - It is a key value pair\n",
    "    - It is mutable\n",
    "    - We can store any type of data\n",
    "    - Keys doesn't allow the duplicates\n",
    "    - Values can allow the duplicates\n",
    "    - Represented by {},keys and values can be separated by :"
   ]
  },
  {
   "cell_type": "code",
   "execution_count": 50,
   "id": "7f16e0fb",
   "metadata": {},
   "outputs": [
    {
     "name": "stdout",
     "output_type": "stream",
     "text": [
      "{} <class 'dict'>\n"
     ]
    }
   ],
   "source": [
    "# Empty dictionary\n",
    "d = {}\n",
    "print(d,type(d))"
   ]
  },
  {
   "cell_type": "code",
   "execution_count": 52,
   "id": "d287629a",
   "metadata": {},
   "outputs": [
    {
     "name": "stdout",
     "output_type": "stream",
     "text": [
      "{3: 6, 8: 23, 'a': 'b', 'c': 6.8, 8.4: 77}\n"
     ]
    }
   ],
   "source": [
    "d = {3:6,8:23,\"a\":\"b\",\"c\":6.8,8.4:77}\n",
    "print(d)"
   ]
  },
  {
   "cell_type": "code",
   "execution_count": 53,
   "id": "41c2becb",
   "metadata": {},
   "outputs": [
    {
     "data": {
      "text/plain": [
       "'b'"
      ]
     },
     "execution_count": 53,
     "metadata": {},
     "output_type": "execute_result"
    }
   ],
   "source": [
    "d['a']"
   ]
  },
  {
   "cell_type": "code",
   "execution_count": 55,
   "id": "702f9595",
   "metadata": {},
   "outputs": [
    {
     "name": "stdout",
     "output_type": "stream",
     "text": [
      "{3: 6, 8: 23, 6: 89, 44: 6.8, 8.4: 77}\n"
     ]
    }
   ],
   "source": [
    "d = {3:6,8:23,6:89,44:6.8,8.4:77}\n",
    "print(d)"
   ]
  },
  {
   "cell_type": "code",
   "execution_count": 61,
   "id": "a663419c",
   "metadata": {},
   "outputs": [
    {
     "name": "stdout",
     "output_type": "stream",
     "text": [
      "5 44 3 [3, 6, 8, 8.4, 44] 69.4\n"
     ]
    }
   ],
   "source": [
    "print(len(d),max(d),min(d),sorted(d),sum(d))"
   ]
  },
  {
   "cell_type": "code",
   "execution_count": 63,
   "id": "b6beb1ba",
   "metadata": {},
   "outputs": [
    {
     "data": {
      "text/plain": [
       "{3: 9, 8: 6, 6: 89, 44: 6.8, 8.4: 77}"
      ]
     },
     "execution_count": 63,
     "metadata": {},
     "output_type": "execute_result"
    }
   ],
   "source": [
    "# keys doesn't allow the duplicates\n",
    "d = {3:6,8:6,6:89,44:6.8,8.4:77,3:88,3:5,3:9}\n",
    "d"
   ]
  },
  {
   "cell_type": "code",
   "execution_count": 64,
   "id": "40b8a03b",
   "metadata": {},
   "outputs": [
    {
     "name": "stdout",
     "output_type": "stream",
     "text": [
      "['__class__', '__class_getitem__', '__contains__', '__delattr__', '__delitem__', '__dir__', '__doc__', '__eq__', '__format__', '__ge__', '__getattribute__', '__getitem__', '__getstate__', '__gt__', '__hash__', '__init__', '__init_subclass__', '__ior__', '__iter__', '__le__', '__len__', '__lt__', '__ne__', '__new__', '__or__', '__reduce__', '__reduce_ex__', '__repr__', '__reversed__', '__ror__', '__setattr__', '__setitem__', '__sizeof__', '__str__', '__subclasshook__', 'clear', 'copy', 'fromkeys', 'get', 'items', 'keys', 'pop', 'popitem', 'setdefault', 'update', 'values'] "
     ]
    }
   ],
   "source": [
    "print(dir(dict),end=' ')"
   ]
  },
  {
   "cell_type": "code",
   "execution_count": 65,
   "id": "98d21e03",
   "metadata": {},
   "outputs": [
    {
     "name": "stdout",
     "output_type": "stream",
     "text": [
      "6.8\n"
     ]
    }
   ],
   "source": [
    "# get()\n",
    "d = {3:6,8:23,6:89,44:6.8,8.4:77}\n",
    "print(d.get(44))"
   ]
  },
  {
   "cell_type": "code",
   "execution_count": 69,
   "id": "6c582457",
   "metadata": {},
   "outputs": [
    {
     "name": "stdout",
     "output_type": "stream",
     "text": [
      "dict_keys([3, 8, 6, 44, 8.4])\n",
      "dict_values([6, 23, 89, 6.8, 77])\n",
      "dict_items([(3, 6), (8, 23), (6, 89), (44, 6.8), (8.4, 77)])\n"
     ]
    }
   ],
   "source": [
    "# keys(),values(),items()\n",
    "d = {3:6,8:23,6:89,44:6.8,8.4:77}\n",
    "print(d.keys())\n",
    "print(d.values())\n",
    "print(d.items())"
   ]
  },
  {
   "cell_type": "code",
   "execution_count": 70,
   "id": "072921ea",
   "metadata": {},
   "outputs": [
    {
     "data": {
      "text/plain": [
       "{3: 6, 8: 23, 6: 89, 44: 6.8, 8.4: 77, 'python': 'workshop'}"
      ]
     },
     "execution_count": 70,
     "metadata": {},
     "output_type": "execute_result"
    }
   ],
   "source": [
    "# Adding new key and value to the dictionary\n",
    "d = {3:6,8:23,6:89,44:6.8,8.4:77}\n",
    "d['python']='workshop'\n",
    "d"
   ]
  },
  {
   "cell_type": "code",
   "execution_count": 71,
   "id": "e425fefe",
   "metadata": {},
   "outputs": [
    {
     "data": {
      "text/plain": [
       "6.8"
      ]
     },
     "execution_count": 71,
     "metadata": {},
     "output_type": "execute_result"
    }
   ],
   "source": [
    "# pop()\n",
    "d.pop(44)"
   ]
  },
  {
   "cell_type": "code",
   "execution_count": 72,
   "id": "cbc82a5d",
   "metadata": {},
   "outputs": [
    {
     "name": "stdout",
     "output_type": "stream",
     "text": [
      "{3: 6, 8: 23, 6: 89, 8.4: 77, 'python': 'workshop'}\n"
     ]
    }
   ],
   "source": [
    "print(d)"
   ]
  },
  {
   "cell_type": "code",
   "execution_count": 73,
   "id": "2933fe13",
   "metadata": {},
   "outputs": [
    {
     "name": "stdout",
     "output_type": "stream",
     "text": [
      "('python', 'workshop')\n"
     ]
    }
   ],
   "source": [
    "print(d.popitem())"
   ]
  },
  {
   "cell_type": "code",
   "execution_count": 74,
   "id": "0038b128",
   "metadata": {},
   "outputs": [
    {
     "name": "stdout",
     "output_type": "stream",
     "text": [
      "{3: 6, 8: 23, 6: 89, 8.4: 77}\n"
     ]
    }
   ],
   "source": [
    "print(d)"
   ]
  },
  {
   "cell_type": "code",
   "execution_count": 75,
   "id": "2f2f0a6f",
   "metadata": {},
   "outputs": [
    {
     "name": "stdout",
     "output_type": "stream",
     "text": [
      "{3: 6, 8: 23, 6: 90, 8.4: 77}\n"
     ]
    }
   ],
   "source": [
    "# update()\n",
    "d.update({6:90})\n",
    "print(d)"
   ]
  },
  {
   "cell_type": "code",
   "execution_count": 76,
   "id": "9d3028da",
   "metadata": {},
   "outputs": [
    {
     "name": "stdout",
     "output_type": "stream",
     "text": [
      "{2: 56, 8: 22, 9: 44} {2: 56, 8: 22, 9: 44}\n"
     ]
    }
   ],
   "source": [
    "# copy()\n",
    "d1 = {2:56,8:22,9:44}\n",
    "d2 = d1.copy()\n",
    "print(d1,d2)"
   ]
  },
  {
   "cell_type": "code",
   "execution_count": 77,
   "id": "741de885",
   "metadata": {},
   "outputs": [],
   "source": [
    "# clear()\n",
    "d1.clear()"
   ]
  },
  {
   "cell_type": "code",
   "execution_count": 78,
   "id": "a18c3010",
   "metadata": {},
   "outputs": [
    {
     "data": {
      "text/plain": [
       "{}"
      ]
     },
     "execution_count": 78,
     "metadata": {},
     "output_type": "execute_result"
    }
   ],
   "source": [
    "d1"
   ]
  },
  {
   "cell_type": "code",
   "execution_count": 82,
   "id": "e1d99e0a",
   "metadata": {},
   "outputs": [
    {
     "name": "stdout",
     "output_type": "stream",
     "text": [
      "{4: 16, 5: 25, 6: 36, 2: 4, 8: 64, 9: 81}\n"
     ]
    }
   ],
   "source": [
    "# li= [4,5,6,2,8,9]\n",
    "# o/p: {4:16,5:25,6:36,2:4,8:64,9:81}\n",
    "li= [4,5,6,2,8,9]\n",
    "d = {}\n",
    "for i in li:\n",
    "    d[i]=i**2\n",
    "print(d)"
   ]
  },
  {
   "cell_type": "code",
   "execution_count": 84,
   "id": "c6727d78",
   "metadata": {},
   "outputs": [
    {
     "name": "stdout",
     "output_type": "stream",
     "text": [
      "4 5 6 2 8 9 "
     ]
    }
   ],
   "source": [
    "d = {4: 16, 5: 25, 6: 36, 2: 4, 8: 64, 9: 81}\n",
    "for i in d:\n",
    "    print(i,end=' ')"
   ]
  },
  {
   "cell_type": "code",
   "execution_count": 85,
   "id": "d23902a8",
   "metadata": {},
   "outputs": [
    {
     "name": "stdout",
     "output_type": "stream",
     "text": [
      "16 25 36 4 64 81 "
     ]
    }
   ],
   "source": [
    "d = {4: 16, 5: 25, 6: 36, 2: 4, 8: 64, 9: 81}\n",
    "for i in d.values():\n",
    "    print(i,end=' ')"
   ]
  },
  {
   "cell_type": "code",
   "execution_count": 86,
   "id": "f942a89f",
   "metadata": {},
   "outputs": [
    {
     "name": "stdout",
     "output_type": "stream",
     "text": [
      "(4, 16) (5, 25) (6, 36) (2, 4) (8, 64) (9, 81) "
     ]
    }
   ],
   "source": [
    "d = {4: 16, 5: 25, 6: 36, 2: 4, 8: 64, 9: 81}\n",
    "for i in d.items():\n",
    "    print(i,end=' ')"
   ]
  },
  {
   "cell_type": "code",
   "execution_count": null,
   "id": "acaf086b",
   "metadata": {},
   "outputs": [],
   "source": [
    "task - 2\n",
    "------------------\n",
    "# i/p: 20\n",
    "# o/p: {1:1,2:8,3:27,4:64.............10:1000}"
   ]
  },
  {
   "cell_type": "markdown",
   "id": "32f6bb53",
   "metadata": {},
   "source": [
    "- set\n",
    "    - Set is a collection which is unordered and unindexed\n",
    "    - It is itself mutable\n",
    "    - Set doesn't allow the duplicates\n",
    "    - We can store any type of data\n",
    "    - Represented by {},values can be separated by ,"
   ]
  },
  {
   "cell_type": "code",
   "execution_count": 88,
   "id": "928f9bd1",
   "metadata": {},
   "outputs": [
    {
     "name": "stdout",
     "output_type": "stream",
     "text": [
      "{4, 5} <class 'set'>\n"
     ]
    }
   ],
   "source": [
    "s = {4,5,5}\n",
    "print(s,type(s))"
   ]
  },
  {
   "cell_type": "code",
   "execution_count": 89,
   "id": "5e8f3654",
   "metadata": {},
   "outputs": [
    {
     "name": "stdout",
     "output_type": "stream",
     "text": [
      "{0, 1, 3, 4, 5, 6}\n"
     ]
    }
   ],
   "source": [
    "s = {3,4,5,3,4,4,5,5,6,6,1,0}\n",
    "print(s)"
   ]
  },
  {
   "cell_type": "code",
   "execution_count": 90,
   "id": "d079cf9a",
   "metadata": {},
   "outputs": [
    {
     "name": "stdout",
     "output_type": "stream",
     "text": [
      "6\n"
     ]
    }
   ],
   "source": [
    "print(len(s))"
   ]
  },
  {
   "cell_type": "code",
   "execution_count": 91,
   "id": "b903ba82",
   "metadata": {},
   "outputs": [
    {
     "name": "stdout",
     "output_type": "stream",
     "text": [
      "['__and__', '__class__', '__class_getitem__', '__contains__', '__delattr__', '__dir__', '__doc__', '__eq__', '__format__', '__ge__', '__getattribute__', '__getstate__', '__gt__', '__hash__', '__iand__', '__init__', '__init_subclass__', '__ior__', '__isub__', '__iter__', '__ixor__', '__le__', '__len__', '__lt__', '__ne__', '__new__', '__or__', '__rand__', '__reduce__', '__reduce_ex__', '__repr__', '__ror__', '__rsub__', '__rxor__', '__setattr__', '__sizeof__', '__str__', '__sub__', '__subclasshook__', '__xor__', 'add', 'clear', 'copy', 'difference', 'difference_update', 'discard', 'intersection', 'intersection_update', 'isdisjoint', 'issubset', 'issuperset', 'pop', 'remove', 'symmetric_difference', 'symmetric_difference_update', 'union', 'update'] "
     ]
    }
   ],
   "source": [
    "print(dir(set),end=' ')"
   ]
  },
  {
   "cell_type": "code",
   "execution_count": 93,
   "id": "18e948a7",
   "metadata": {},
   "outputs": [
    {
     "name": "stdout",
     "output_type": "stream",
     "text": [
      "{0, 1, 3, 4, 5, 6}\n",
      "{0, 1, 3, 4, 5, 6, 56}\n"
     ]
    }
   ],
   "source": [
    "# add()\n",
    "s = {3,4,5,3,4,4,5,5,6,6,1,0}\n",
    "print(s)\n",
    "s.add(56)\n",
    "print(s)"
   ]
  },
  {
   "cell_type": "code",
   "execution_count": 94,
   "id": "62195266",
   "metadata": {},
   "outputs": [
    {
     "name": "stdout",
     "output_type": "stream",
     "text": [
      "{9, 4, 5, 23} {9, 4, 5, 23}\n"
     ]
    }
   ],
   "source": [
    "# copy()\n",
    "s1 = {23,4,5,9}\n",
    "s2 = s1.copy()\n",
    "print(s1,s2)"
   ]
  },
  {
   "cell_type": "code",
   "execution_count": 95,
   "id": "363dd01f",
   "metadata": {},
   "outputs": [
    {
     "data": {
      "text/plain": [
       "{3, 4, 5, 7, 34, 67, 78}"
      ]
     },
     "execution_count": 95,
     "metadata": {},
     "output_type": "execute_result"
    }
   ],
   "source": [
    "# union()\n",
    "a,b = {3,4,5,7},{34,67,78}\n",
    "a.union(b)"
   ]
  },
  {
   "cell_type": "code",
   "execution_count": 96,
   "id": "9ef29ad2",
   "metadata": {},
   "outputs": [
    {
     "data": {
      "text/plain": [
       "{3, 4, 5, 7, 34, 67, 78}"
      ]
     },
     "execution_count": 96,
     "metadata": {},
     "output_type": "execute_result"
    }
   ],
   "source": [
    "b.union(a)"
   ]
  },
  {
   "cell_type": "code",
   "execution_count": 97,
   "id": "98accee3",
   "metadata": {},
   "outputs": [
    {
     "data": {
      "text/plain": [
       "{3, 7, 78}"
      ]
     },
     "execution_count": 97,
     "metadata": {},
     "output_type": "execute_result"
    }
   ],
   "source": [
    "# intersection()\n",
    "a,b = {3,4,5,56,78,7},{34,67,78,3,78,2,7}\n",
    "a.intersection(b)"
   ]
  },
  {
   "cell_type": "code",
   "execution_count": 98,
   "id": "589e3450",
   "metadata": {},
   "outputs": [
    {
     "data": {
      "text/plain": [
       "{3, 7, 78}"
      ]
     },
     "execution_count": 98,
     "metadata": {},
     "output_type": "execute_result"
    }
   ],
   "source": [
    "b.intersection(a)"
   ]
  },
  {
   "cell_type": "code",
   "execution_count": 99,
   "id": "7b5b8444",
   "metadata": {},
   "outputs": [
    {
     "data": {
      "text/plain": [
       "{4, 5, 56}"
      ]
     },
     "execution_count": 99,
     "metadata": {},
     "output_type": "execute_result"
    }
   ],
   "source": [
    "# difference()\n",
    "a,b = {3,4,5,56,78,7},{34,67,78,3,78,2,7}\n",
    "a.difference(b)"
   ]
  },
  {
   "cell_type": "code",
   "execution_count": 101,
   "id": "601d69dd",
   "metadata": {},
   "outputs": [
    {
     "data": {
      "text/plain": [
       "{2, 34, 67}"
      ]
     },
     "execution_count": 101,
     "metadata": {},
     "output_type": "execute_result"
    }
   ],
   "source": [
    "b.difference(a)"
   ]
  },
  {
   "cell_type": "code",
   "execution_count": 105,
   "id": "fcf3d9f4",
   "metadata": {},
   "outputs": [
    {
     "name": "stdout",
     "output_type": "stream",
     "text": [
      "{4, 5, 7, 56, 78}\n"
     ]
    }
   ],
   "source": [
    "# pop()\n",
    "print(a)"
   ]
  },
  {
   "cell_type": "code",
   "execution_count": 106,
   "id": "f81b110d",
   "metadata": {},
   "outputs": [
    {
     "data": {
      "text/plain": [
       "4"
      ]
     },
     "execution_count": 106,
     "metadata": {},
     "output_type": "execute_result"
    }
   ],
   "source": [
    "a.pop()"
   ]
  },
  {
   "cell_type": "code",
   "execution_count": 107,
   "id": "ecb8cd46",
   "metadata": {},
   "outputs": [
    {
     "data": {
      "text/plain": [
       "{5, 7, 56, 78}"
      ]
     },
     "execution_count": 107,
     "metadata": {},
     "output_type": "execute_result"
    }
   ],
   "source": [
    "a"
   ]
  },
  {
   "cell_type": "code",
   "execution_count": 108,
   "id": "cc4e415e",
   "metadata": {},
   "outputs": [
    {
     "name": "stdout",
     "output_type": "stream",
     "text": [
      "{2, 67, 3, 34, 7, 78}\n"
     ]
    }
   ],
   "source": [
    "print(b)"
   ]
  },
  {
   "cell_type": "code",
   "execution_count": 109,
   "id": "7be63194",
   "metadata": {},
   "outputs": [],
   "source": [
    "# discard()\n",
    "b.discard(7)"
   ]
  },
  {
   "cell_type": "code",
   "execution_count": 110,
   "id": "99296104",
   "metadata": {},
   "outputs": [
    {
     "name": "stdout",
     "output_type": "stream",
     "text": [
      "{2, 67, 3, 34, 78}\n"
     ]
    }
   ],
   "source": [
    "print(b)"
   ]
  },
  {
   "cell_type": "code",
   "execution_count": 114,
   "id": "acd8541c",
   "metadata": {},
   "outputs": [],
   "source": [
    "b.discard(7)"
   ]
  },
  {
   "cell_type": "code",
   "execution_count": 111,
   "id": "f26b8ba4",
   "metadata": {},
   "outputs": [],
   "source": [
    "# remove()\n",
    "b.remove(34)"
   ]
  },
  {
   "cell_type": "code",
   "execution_count": 112,
   "id": "d7001e22",
   "metadata": {},
   "outputs": [
    {
     "data": {
      "text/plain": [
       "{2, 3, 67, 78}"
      ]
     },
     "execution_count": 112,
     "metadata": {},
     "output_type": "execute_result"
    }
   ],
   "source": [
    "b"
   ]
  },
  {
   "cell_type": "code",
   "execution_count": 113,
   "id": "687446ec",
   "metadata": {},
   "outputs": [
    {
     "ename": "KeyError",
     "evalue": "34",
     "output_type": "error",
     "traceback": [
      "\u001b[1;31m---------------------------------------------------------------------------\u001b[0m",
      "\u001b[1;31mKeyError\u001b[0m                                  Traceback (most recent call last)",
      "Cell \u001b[1;32mIn[113], line 1\u001b[0m\n\u001b[1;32m----> 1\u001b[0m b\u001b[38;5;241m.\u001b[39mremove(\u001b[38;5;241m34\u001b[39m)\n",
      "\u001b[1;31mKeyError\u001b[0m: 34"
     ]
    }
   ],
   "source": [
    "b.remove(34)"
   ]
  },
  {
   "cell_type": "code",
   "execution_count": 116,
   "id": "ae55771d",
   "metadata": {},
   "outputs": [
    {
     "data": {
      "text/plain": [
       "False"
      ]
     },
     "execution_count": 116,
     "metadata": {},
     "output_type": "execute_result"
    }
   ],
   "source": [
    "# isdisjoint()\n",
    "x = {\"a\",\"b\",\"c\"}\n",
    "y = {\"d\",\"a\",\"f\"}\n",
    "z = x.isdisjoint(y)\n",
    "z"
   ]
  },
  {
   "cell_type": "code",
   "execution_count": 117,
   "id": "4d2ca659",
   "metadata": {},
   "outputs": [
    {
     "name": "stdout",
     "output_type": "stream",
     "text": [
      "{4489, 121}\n"
     ]
    }
   ],
   "source": [
    "s = {34,67,11,56,78,90}\n",
    "f = set()\n",
    "for i in s:\n",
    "    if(i%2==1):\n",
    "        f.add(i**2)\n",
    "print(f)"
   ]
  },
  {
   "cell_type": "code",
   "execution_count": null,
   "id": "f472f21d",
   "metadata": {},
   "outputs": [],
   "source": []
  },
  {
   "cell_type": "code",
   "execution_count": null,
   "id": "ca9b5c48",
   "metadata": {},
   "outputs": [],
   "source": []
  },
  {
   "cell_type": "code",
   "execution_count": null,
   "id": "b1cbbba0",
   "metadata": {},
   "outputs": [],
   "source": []
  },
  {
   "cell_type": "code",
   "execution_count": null,
   "id": "8db2bb53",
   "metadata": {},
   "outputs": [],
   "source": []
  },
  {
   "cell_type": "code",
   "execution_count": null,
   "id": "18a99f91",
   "metadata": {},
   "outputs": [],
   "source": []
  }
 ],
 "metadata": {
  "kernelspec": {
   "display_name": "Python 3 (ipykernel)",
   "language": "python",
   "name": "python3"
  },
  "language_info": {
   "codemirror_mode": {
    "name": "ipython",
    "version": 3
   },
   "file_extension": ".py",
   "mimetype": "text/x-python",
   "name": "python",
   "nbconvert_exporter": "python",
   "pygments_lexer": "ipython3",
   "version": "3.11.5"
  }
 },
 "nbformat": 4,
 "nbformat_minor": 5
}
