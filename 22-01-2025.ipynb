{
 "cells": [
  {
   "cell_type": "code",
   "execution_count": 1,
   "id": "64c96405-e8db-478f-b251-fa6b222c9877",
   "metadata": {},
   "outputs": [
    {
     "name": "stdout",
     "output_type": "stream",
     "text": [
      "welcome to python workshop\n"
     ]
    }
   ],
   "source": [
    "print(\"welcome to python workshop\")"
   ]
  },
  {
   "cell_type": "code",
   "execution_count": 3,
   "id": "88fa3e2b-7407-46b9-9019-2697880e1b0e",
   "metadata": {},
   "outputs": [
    {
     "name": "stdout",
     "output_type": "stream",
     "text": [
      "387^@#%^@%hgdsfhgdhfg45746\n"
     ]
    }
   ],
   "source": [
    "print(\"387^@#%^@%hgdsfhgdhfg45746\")"
   ]
  },
  {
   "cell_type": "code",
   "execution_count": 4,
   "id": "0acc8d8a-308b-41fa-80ec-a5ef5c7ea1c1",
   "metadata": {},
   "outputs": [
    {
     "name": "stdout",
     "output_type": "stream",
     "text": [
      "['False', 'None', 'True', 'and', 'as', 'assert', 'async', 'await', 'break', 'class', 'continue', 'def', 'del', 'elif', 'else', 'except', 'finally', 'for', 'from', 'global', 'if', 'import', 'in', 'is', 'lambda', 'nonlocal', 'not', 'or', 'pass', 'raise', 'return', 'try', 'while', 'with', 'yield']\n"
     ]
    }
   ],
   "source": [
    "import keyword\n",
    "print(keyword.kwlist)"
   ]
  },
  {
   "cell_type": "code",
   "execution_count": 5,
   "id": "cd3bd1a3-c3fb-4dca-aa92-388c43b09771",
   "metadata": {},
   "outputs": [
    {
     "name": "stdout",
     "output_type": "stream",
     "text": [
      "35\n"
     ]
    }
   ],
   "source": [
    "import keyword\n",
    "print(len(keyword.kwlist))"
   ]
  },
  {
   "cell_type": "code",
   "execution_count": 8,
   "id": "00f64f9d-6e31-4250-b84c-1957e8dcf0a2",
   "metadata": {},
   "outputs": [
    {
     "name": "stdout",
     "output_type": "stream",
     "text": [
      "a\n",
      "67\n"
     ]
    }
   ],
   "source": [
    "a = 67\n",
    "print(\"a\")\n",
    "print(a)"
   ]
  },
  {
   "cell_type": "code",
   "execution_count": 10,
   "id": "6a8eb5a8-7ef4-470e-a820-e171705e0806",
   "metadata": {},
   "outputs": [
    {
     "data": {
      "text/plain": [
       "6"
      ]
     },
     "execution_count": 10,
     "metadata": {},
     "output_type": "execute_result"
    }
   ],
   "source": [
    "a8 = 6\n",
    "a8"
   ]
  },
  {
   "cell_type": "code",
   "execution_count": 12,
   "id": "db3ec53b-178d-4063-88aa-488481099d06",
   "metadata": {},
   "outputs": [
    {
     "data": {
      "text/plain": [
       "9"
      ]
     },
     "execution_count": 12,
     "metadata": {},
     "output_type": "execute_result"
    }
   ],
   "source": [
    "_s = 9\n",
    "_s"
   ]
  },
  {
   "cell_type": "code",
   "execution_count": 14,
   "id": "d5f9580e-78da-41da-9abb-e875ca963626",
   "metadata": {},
   "outputs": [
    {
     "data": {
      "text/plain": [
       "'name'"
      ]
     },
     "execution_count": 14,
     "metadata": {},
     "output_type": "execute_result"
    }
   ],
   "source": [
    "first_name = \"name\"\n",
    "first_name"
   ]
  },
  {
   "cell_type": "code",
   "execution_count": 15,
   "id": "b17bb51d-4a91-4777-9d66-3e286cbbf823",
   "metadata": {},
   "outputs": [
    {
     "ename": "SyntaxError",
     "evalue": "invalid syntax (1907045559.py, line 1)",
     "output_type": "error",
     "traceback": [
      "\u001b[1;36m  Cell \u001b[1;32mIn[15], line 1\u001b[1;36m\u001b[0m\n\u001b[1;33m    for = 67\u001b[0m\n\u001b[1;37m        ^\u001b[0m\n\u001b[1;31mSyntaxError\u001b[0m\u001b[1;31m:\u001b[0m invalid syntax\n"
     ]
    }
   ],
   "source": [
    "for = 67\n",
    "for"
   ]
  },
  {
   "cell_type": "code",
   "execution_count": 19,
   "id": "210dff32-eca4-4933-a8c2-c1dced078411",
   "metadata": {},
   "outputs": [
    {
     "name": "stdout",
     "output_type": "stream",
     "text": [
      "7 8 9\n"
     ]
    }
   ],
   "source": [
    "a,b,c=7,8,9\n",
    "print(a,b,c)"
   ]
  },
  {
   "cell_type": "code",
   "execution_count": 21,
   "id": "b96ec2aa-13f5-4654-8a9d-b0686d83068f",
   "metadata": {},
   "outputs": [
    {
     "name": "stdout",
     "output_type": "stream",
     "text": [
      "9 9 9\n"
     ]
    }
   ],
   "source": [
    "x=y=z=9\n",
    "print(x,y,z)"
   ]
  },
  {
   "cell_type": "code",
   "execution_count": null,
   "id": "ca899189-a201-4d4c-8109-299ea25a71a9",
   "metadata": {},
   "outputs": [],
   "source": [
    "comment :-  used to stop the execution \n",
    "    1.singleline comment\n",
    "    2.Multiline comment"
   ]
  },
  {
   "cell_type": "code",
   "execution_count": 23,
   "id": "f63eae26-d28e-4164-a603-fed6bd395715",
   "metadata": {},
   "outputs": [
    {
     "name": "stdout",
     "output_type": "stream",
     "text": [
      "hello\n"
     ]
    }
   ],
   "source": [
    "#print(\"hiiiii\") # single line comment\n",
    "print(\"hello\")"
   ]
  },
  {
   "cell_type": "code",
   "execution_count": 24,
   "id": "1723c1eb-fee0-49d9-b23b-37409b3d5ae1",
   "metadata": {},
   "outputs": [
    {
     "name": "stdout",
     "output_type": "stream",
     "text": [
      "welcome\n"
     ]
    }
   ],
   "source": [
    "# multiline comment\n",
    "'''kjlkjewrjewlkjrklewjrklwej\n",
    "ewklrjweklrjklejrke\n",
    "kwjerkljelkrjelwkwrjlkjekljlkejklr\n",
    "'''\n",
    "print(\"welcome\")"
   ]
  },
  {
   "cell_type": "code",
   "execution_count": null,
   "id": "23517188-ca11-471a-8901-ad3d0643133a",
   "metadata": {},
   "outputs": [],
   "source": [
    "# datatypes\n",
    " int :-   67,89,34,789,3847589347598475\n",
    " float :-  6.8,4.9,2.0,6.9..........\n",
    " str :-   \"workshop\",\"897589437\",\"^&HG$#$%\"\n",
    " bool :-  True,False\n",
    " complex :- a+bj"
   ]
  },
  {
   "cell_type": "code",
   "execution_count": 28,
   "id": "27d375b6-d9c8-491a-9773-aae6eab81c81",
   "metadata": {},
   "outputs": [
    {
     "name": "stdout",
     "output_type": "stream",
     "text": [
      "985878 <class 'int'>\n"
     ]
    }
   ],
   "source": [
    "a = 985878\n",
    "print(a,type(a))"
   ]
  },
  {
   "cell_type": "code",
   "execution_count": 31,
   "id": "5fbad299-16d3-4741-b992-906fbad461f2",
   "metadata": {},
   "outputs": [
    {
     "name": "stdout",
     "output_type": "stream",
     "text": [
      "9.7 <class 'float'>\n",
      "903478$#%#$jdfhjd7903 <class 'str'>\n"
     ]
    }
   ],
   "source": [
    "j = 9.7\n",
    "print(j,type(j))\n",
    "s = \"903478$#%#$jdfhjd7903\"\n",
    "print(s,type(s))"
   ]
  },
  {
   "cell_type": "code",
   "execution_count": 34,
   "id": "b4cb1c09-dc4e-440e-b311-19470f22f17e",
   "metadata": {},
   "outputs": [
    {
     "name": "stdout",
     "output_type": "stream",
     "text": [
      "True <class 'bool'>\n",
      "False <class 'bool'>\n"
     ]
    }
   ],
   "source": [
    "g = True\n",
    "h = False\n",
    "print(g,type(g))\n",
    "print(h,type(h))"
   ]
  },
  {
   "cell_type": "code",
   "execution_count": 35,
   "id": "21735f4c-5655-44e8-80cc-ba87955ebe0f",
   "metadata": {},
   "outputs": [
    {
     "name": "stdout",
     "output_type": "stream",
     "text": [
      "(8+2j) <class 'complex'>\n"
     ]
    }
   ],
   "source": [
    "# complex\n",
    "b = 8+2j\n",
    "print(b,type(b))"
   ]
  },
  {
   "cell_type": "code",
   "execution_count": 36,
   "id": "3687efa1-b98e-4981-ae84-33c210a65926",
   "metadata": {},
   "outputs": [
    {
     "name": "stdin",
     "output_type": "stream",
     "text": [
      "Enter any number: 435446456\n"
     ]
    },
    {
     "name": "stdout",
     "output_type": "stream",
     "text": [
      "435446456 <class 'int'>\n"
     ]
    }
   ],
   "source": [
    "# Dynamic way of taking input\n",
    "# int \n",
    "n = int(input('Enter any number:'))\n",
    "print(n,type(n))"
   ]
  },
  {
   "cell_type": "code",
   "execution_count": 37,
   "id": "1bad3bbf-3f81-4ae1-bd2a-c7c158ba7c0e",
   "metadata": {},
   "outputs": [
    {
     "name": "stdin",
     "output_type": "stream",
     "text": [
      "Enter any number: 9.8\n"
     ]
    },
    {
     "name": "stdout",
     "output_type": "stream",
     "text": [
      "9.8 <class 'float'>\n"
     ]
    }
   ],
   "source": [
    "n1 = float(input('Enter any number:'))\n",
    "print(n1,type(n1))"
   ]
  },
  {
   "cell_type": "code",
   "execution_count": 38,
   "id": "9286c2c0-7207-4880-92c2-67067e82ebce",
   "metadata": {},
   "outputs": [
    {
     "name": "stdin",
     "output_type": "stream",
     "text": [
      " jfkhsjksdhjf\n"
     ]
    },
    {
     "name": "stdout",
     "output_type": "stream",
     "text": [
      "jfkhsjksdhjf <class 'str'>\n"
     ]
    }
   ],
   "source": [
    "# str\n",
    "k = str(input())\n",
    "print(k,type(k))"
   ]
  },
  {
   "cell_type": "code",
   "execution_count": 39,
   "id": "5793c8e2-2e06-477f-a989-9f0853c8315e",
   "metadata": {},
   "outputs": [
    {
     "name": "stdin",
     "output_type": "stream",
     "text": [
      " 9827389\n"
     ]
    },
    {
     "name": "stdout",
     "output_type": "stream",
     "text": [
      "9827389 <class 'str'>\n"
     ]
    }
   ],
   "source": [
    "k1 = input()\n",
    "print(k1,type(k1))"
   ]
  },
  {
   "cell_type": "code",
   "execution_count": null,
   "id": "e2941c43-9a70-4950-ab56-d1f2fb156281",
   "metadata": {},
   "outputs": [],
   "source": [
    "type conversions syntax\n",
    "-------------------------\n",
    "int - int(variable_name)\n",
    "float - float(variable_name)\n",
    "str - str(variable_name)"
   ]
  },
  {
   "cell_type": "code",
   "execution_count": 40,
   "id": "fe0384c3-bce9-4956-a296-655d30d81200",
   "metadata": {},
   "outputs": [
    {
     "name": "stdout",
     "output_type": "stream",
     "text": [
      "6 <class 'int'>\n",
      "6.0 <class 'float'>\n"
     ]
    }
   ],
   "source": [
    "# Type conversions\n",
    "# int to float\n",
    "k = 6\n",
    "print(k,type(k))\n",
    "m = float(k)\n",
    "print(m,type(m))"
   ]
  },
  {
   "cell_type": "code",
   "execution_count": 41,
   "id": "0926f3b7-a78d-4b76-b4cb-7d656c36e63c",
   "metadata": {},
   "outputs": [
    {
     "name": "stdout",
     "output_type": "stream",
     "text": [
      "6.0 <class 'float'>\n",
      "6 <class 'int'>\n"
     ]
    }
   ],
   "source": [
    "# float to integer\n",
    "k = 6.0\n",
    "print(k,type(k))\n",
    "m = int(k)\n",
    "print(m,type(m))"
   ]
  },
  {
   "cell_type": "code",
   "execution_count": null,
   "id": "95073326-42ea-4022-80de-b79bfac4605f",
   "metadata": {},
   "outputs": [],
   "source": []
  }
 ],
 "metadata": {
  "kernelspec": {
   "display_name": "Python 3 (ipykernel)",
   "language": "python",
   "name": "python3"
  },
  "language_info": {
   "codemirror_mode": {
    "name": "ipython",
    "version": 3
   },
   "file_extension": ".py",
   "mimetype": "text/x-python",
   "name": "python",
   "nbconvert_exporter": "python",
   "pygments_lexer": "ipython3",
   "version": "3.11.7"
  }
 },
 "nbformat": 4,
 "nbformat_minor": 5
}
